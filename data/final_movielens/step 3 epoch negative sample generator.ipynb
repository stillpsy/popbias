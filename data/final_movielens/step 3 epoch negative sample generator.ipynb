{
 "cells": [
  {
   "cell_type": "code",
   "execution_count": 2,
   "id": "2d632d98",
   "metadata": {},
   "outputs": [],
   "source": [
    "import numpy as np \n",
    "import pandas as pd \n",
    "import scipy.sparse as sp\n",
    "\n",
    "import torch.utils.data as data\n",
    "import os\n",
    "os.chdir('./')\n",
    "\n",
    "import random as random"
   ]
  },
  {
   "cell_type": "code",
   "execution_count": null,
   "id": "867cf1fd",
   "metadata": {},
   "outputs": [],
   "source": [
    "random.seed(0)"
   ]
  },
  {
   "cell_type": "code",
   "execution_count": 6,
   "id": "152547b5",
   "metadata": {},
   "outputs": [],
   "source": [
    "def load_all_custom(test_num=100, dataset=None):\n",
    "\t\"\"\" We load all the three file here to save time in each epoch. \"\"\"\n",
    "    \n",
    "\ttotal_data = pd.read_csv('./total_df')    \n",
    "\ttotal_data = total_data[['uid', 'sid']]    \n",
    "\ttotal_data['uid'] = total_data['uid'].apply(lambda x : int(x))\n",
    "\ttotal_data['sid'] = total_data['sid'].apply(lambda x : int(x))    \n",
    "\tuser_num = total_data['uid'].max() + 1\n",
    "\titem_num = total_data['sid'].max() + 1\n",
    "\tdel total_data    \n",
    "    \n",
    "\ttrain_data = pd.read_csv('./train_df')    \n",
    "\ttrain_data = train_data[['uid', 'sid']]\n",
    "\ttrain_data['uid'] = train_data['uid'].apply(lambda x : int(x))\n",
    "\ttrain_data['sid'] = train_data['sid'].apply(lambda x : int(x))    \n",
    "\ttrain_data = train_data.values.tolist()\n",
    "\n",
    "\t# load ratings as a dok matrix\n",
    "\ttrain_mat = sp.dok_matrix((user_num, item_num), dtype=np.float32)\n",
    "\tfor x in train_data:\n",
    "\t\ttrain_mat[x[0], x[1]] = 1.0\n",
    "\n",
    "\ttest_data = pd.read_csv('./test_df')     \n",
    "\ttest_data = test_data[['uid', 'sid']]\n",
    "\ttest_data['uid'] = test_data['uid'].apply(lambda x : int(x))\n",
    "\ttest_data['sid'] = test_data['sid'].apply(lambda x : int(x))\n",
    "\ttest_data.columns = ['user', 'item']    \n",
    "\ttest_data = test_data.values.tolist()    \n",
    "    \n",
    "\tval_data = pd.read_csv('./val_df')     \n",
    "\tval_data = val_data[['uid', 'sid']]\n",
    "\tval_data['uid'] = val_data['uid'].apply(lambda x : int(x))\n",
    "\tval_data['sid'] = val_data['sid'].apply(lambda x : int(x))\n",
    "\tval_data.columns = ['user', 'item']    \n",
    "\tval_data = val_data.values.tolist()        \n",
    "\n",
    "\tneg_samples_data = pd.read_csv('./neg_sample_df')     \n",
    "\tneg_samples_data = neg_samples_data[['uid', 'sid']]\n",
    "\tneg_samples_data['uid'] = neg_samples_data['uid'].apply(lambda x : int(x))\n",
    "\tneg_samples_data['sid'] = neg_samples_data['sid'].apply(lambda x : int(x))\n",
    "\tneg_samples_data.columns = ['user', 'item']    \n",
    "\tneg_samples_data = neg_samples_data.values.tolist()            \n",
    "\n",
    "\t'''\n",
    "\ttest_mat = sp.dok_matrix((user_num, item_num), dtype=np.float32)\n",
    "\tfor x in test_data:\n",
    "\t\ttest_mat[x[0], x[1]] = 1.0\n",
    "\t'''\n",
    "        \n",
    "\ttotal_mat = sp.dok_matrix((user_num, item_num), dtype=np.float32)\n",
    "\tfor x in train_data:\n",
    "\t\ttotal_mat[x[0], x[1]] = 1.0\n",
    "\tfor x in test_data:\n",
    "\t\ttotal_mat[x[0], x[1]] = 1.0\n",
    "\tfor x in val_data:\n",
    "\t\ttotal_mat[x[0], x[1]] = 1.0\n",
    "\tfor x in neg_samples_data:\n",
    "\t\ttotal_mat[x[0], x[1]] = 1.0\n",
    "        \n",
    "\ttest_data = None # dummy code\n",
    "\ttest_mat = None  # dummy code\n",
    "\n",
    "\treturn train_data, test_data, user_num, item_num, train_mat, test_mat, total_mat\n"
   ]
  },
  {
   "cell_type": "code",
   "execution_count": 7,
   "id": "dccc0cb1",
   "metadata": {},
   "outputs": [],
   "source": [
    "class BPRData(data.Dataset):\n",
    "\tdef __init__(self, features, \n",
    "\t\t\t\tnum_item, train_mat=None, total_mat=None, num_ng=0, is_training=None, sample_mode = None):\n",
    "\t\tsuper(BPRData, self).__init__()\n",
    "\t\t\"\"\" Note that the labels are only useful when training, we thus \n",
    "\t\t\tadd them in the ng_sample() function.\n",
    "\t\t\"\"\"\n",
    "\t\tself.features = features\n",
    "\t\tself.features2 = None\n",
    "\t\tself.num_item = num_item\n",
    "\t\tself.train_mat = train_mat\n",
    "\t\tself.total_mat = total_mat\n",
    "\t\tself.num_ng = num_ng\n",
    "\t\tself.is_training = is_training        \n",
    "\t\tself.sample_mode = sample_mode        \n",
    "\t\t# self.labels = [0 for _ in range(len(features))]\n",
    "\n",
    "\tdef ng_sample(self):\n",
    "\t\t### sample 2 pos, 2 neg        \n",
    "\n",
    "\t\tif True:\n",
    "\t\t\tassert self.is_training, 'no need to sampling when testing'\n",
    "\t\t\tself.features_fill = []\n",
    "\t\t\t### self.features is train [user, pos item] list\n",
    "\t\t\ttmp = pd.DataFrame(self.features)\n",
    "\t\t\ttmp.columns = ['uid', 'sid']\n",
    "            \n",
    "\t\t\t### [user pos] -> [user pos1 pos2] \n",
    "\t\t\t### by groupby uid, then shuffling sid\n",
    "\t\t\ttmp = tmp.sort_values('uid')\n",
    "\t\t\ttmp_list = list(range(tmp.shape[0]))\n",
    "\t\t\trandom.shuffle(tmp_list)\n",
    "\t\t\ttmp['rng'] = tmp_list\n",
    "\t\t\tsid2 = tmp.sort_values(['uid', 'rng']).sid\n",
    "\t\t\ttmp['sid2'] = sid2.reset_index().sid\n",
    "\t\t\ttmp = tmp[['uid', 'sid', 'sid2']]\n",
    "\t\t\ttmp = tmp.sort_index()\n",
    "\t\t\tself.features2 = tmp.values.tolist()   \n",
    "            \n",
    "\t\t\t### add neg1, neg2\n",
    "\t\t\t### random sample until neg1, neg2 is not from total_mat            \n",
    "\t\t\t### note total_mat includes train, val, test, (test neg_samples)            \n",
    "\t\t\tfor x in self.features2:\n",
    "\t\t\t\tu, pos1, pos2 = x[0], x[1], x[2]\n",
    "\t\t\t\tfor t in range(self.num_ng):\n",
    "\t\t\t\t\tneg1, neg2 = np.random.randint(self.num_item, size = 2)\n",
    "\t\t\t\t\twhile ((u, neg1) in self.total_mat) or ((u, neg2) in self.total_mat):\n",
    "\t\t\t\t\t\tneg1, neg2 = np.random.randint(self.num_item, size = 2)\n",
    "\t\t\t\t\tself.features_fill.append([u, pos1, pos2, neg1, neg2])\n",
    "            \n",
    "\n",
    "\tdef __len__(self):\n",
    "\t\treturn self.num_ng * len(self.features) if self.is_training \\\n",
    "\t\t\t\t\telse len(self.features)\n",
    "\n",
    "\tdef __getitem__(self, idx):\n",
    "\t\tfeatures = self.features_fill if \\\n",
    "\t\t\t\t\tself.is_training else self.features\n",
    "        \n",
    "\t\tif True:    \n",
    "\t\t\tuser = features[idx][0]\n",
    "\t\t\tpos1 = features[idx][1]\n",
    "\t\t\tpos2 = features[idx][2]        \n",
    "\t\t\tneg1 = features[idx][3]                    \n",
    "\t\t\tneg2 = features[idx][4]                                \n",
    "\t\t\treturn user, pos1, pos2, neg1, neg2"
   ]
  },
  {
   "cell_type": "code",
   "execution_count": 8,
   "id": "4a016f92",
   "metadata": {},
   "outputs": [],
   "source": [
    "train_data, test_data, user_num, item_num, train_mat, test_mat, total_mat = load_all_custom()"
   ]
  },
  {
   "cell_type": "code",
   "execution_count": 40,
   "id": "372752a1",
   "metadata": {},
   "outputs": [
    {
     "name": "stdout",
     "output_type": "stream",
     "text": [
      "original user-pos tuple is\n"
     ]
    },
    {
     "data": {
      "text/plain": [
       "[[660, 203],\n",
       " [941, 1038],\n",
       " [451, 281],\n",
       " [4633, 1113],\n",
       " [926, 581],\n",
       " [1296, 694],\n",
       " [713, 573],\n",
       " [110, 619],\n",
       " [5901, 641],\n",
       " [820, 2423]]"
      ]
     },
     "execution_count": 40,
     "metadata": {},
     "output_type": "execute_result"
    }
   ],
   "source": [
    "print('original user-pos tuple is')\n",
    "train_data[0:10]"
   ]
  },
  {
   "cell_type": "code",
   "execution_count": 11,
   "id": "d8511818",
   "metadata": {},
   "outputs": [],
   "source": [
    "train_dataset = BPRData(train_data, item_num, train_mat, total_mat, num_ng=1, is_training=True, sample_mode=None)"
   ]
  },
  {
   "cell_type": "code",
   "execution_count": 13,
   "id": "071f431c",
   "metadata": {},
   "outputs": [],
   "source": [
    "train_dataset.ng_sample()"
   ]
  },
  {
   "cell_type": "code",
   "execution_count": 14,
   "id": "5a2df585",
   "metadata": {},
   "outputs": [],
   "source": [
    "negative_samples = train_dataset.features_fill"
   ]
  },
  {
   "cell_type": "code",
   "execution_count": 41,
   "id": "4d99d3c7",
   "metadata": {},
   "outputs": [
    {
     "name": "stdout",
     "output_type": "stream",
     "text": [
      "new (user, pos1, pos2, neg1, neg2) tuple is\n"
     ]
    },
    {
     "data": {
      "text/plain": [
       "[[660, 203, 3147, 2847, 1526],\n",
       " [941, 1038, 2312, 1964, 476],\n",
       " [451, 281, 566, 2287, 1585],\n",
       " [4633, 1113, 3020, 243, 1316],\n",
       " [926, 581, 2109, 2821, 1300],\n",
       " [1296, 694, 1488, 2978, 2172],\n",
       " [713, 573, 1963, 1016, 1276],\n",
       " [110, 619, 663, 2015, 1389],\n",
       " [5901, 641, 2575, 1595, 550],\n",
       " [820, 2423, 2198, 3034, 1241]]"
      ]
     },
     "execution_count": 41,
     "metadata": {},
     "output_type": "execute_result"
    }
   ],
   "source": [
    "print('new (user, pos1, pos2, neg1, neg2) tuple is')\n",
    "negative_samples[0:10]"
   ]
  },
  {
   "cell_type": "code",
   "execution_count": 42,
   "id": "57cab65d",
   "metadata": {},
   "outputs": [],
   "source": [
    "tmp1 = np.array(negative_samples)[:, 1]\n",
    "tmp2 = np.array(negative_samples)[:, 2]"
   ]
  },
  {
   "cell_type": "code",
   "execution_count": 37,
   "id": "e5c82576",
   "metadata": {},
   "outputs": [
    {
     "name": "stdout",
     "output_type": "stream",
     "text": [
      "ratio of pos1 > pos2\n",
      "0.49968871166688644\n"
     ]
    }
   ],
   "source": [
    "print('ratio of pos1 > pos2')\n",
    "print(np.mean(tmp1 > tmp2))"
   ]
  },
  {
   "cell_type": "code",
   "execution_count": null,
   "id": "f00b4a99",
   "metadata": {},
   "outputs": [],
   "source": []
  },
  {
   "cell_type": "markdown",
   "id": "dc482de3",
   "metadata": {},
   "source": [
    "#### Generate Epoch Training Data for Faster, Reproducible Training"
   ]
  },
  {
   "cell_type": "code",
   "execution_count": 43,
   "id": "a87825dd",
   "metadata": {},
   "outputs": [],
   "source": [
    "random.seed(0)"
   ]
  },
  {
   "cell_type": "code",
   "execution_count": 44,
   "id": "cd20cb7d",
   "metadata": {},
   "outputs": [],
   "source": [
    "total_epochs = 20\n",
    "num_ng = 3"
   ]
  },
  {
   "cell_type": "code",
   "execution_count": 57,
   "id": "3b10cab7",
   "metadata": {},
   "outputs": [],
   "source": [
    "import pickle\n",
    "for i in range(total_epochs):\n",
    "    print(i)\n",
    "    train_list = []\n",
    "    for j in range(num_ng):\n",
    "        train_dataset.ng_sample()\n",
    "        train_samples = train_dataset.features_fill\n",
    "        train_list += train_samples\n",
    "    with open(f'./train_samples/train_samples_{i}', 'wb') as fp:\n",
    "        pickle.dump(train_list, fp)"
   ]
  },
  {
   "cell_type": "code",
   "execution_count": null,
   "id": "9f91690b",
   "metadata": {},
   "outputs": [],
   "source": []
  },
  {
   "cell_type": "code",
   "execution_count": null,
   "id": "0cdae174",
   "metadata": {},
   "outputs": [],
   "source": []
  },
  {
   "cell_type": "code",
   "execution_count": null,
   "id": "d341faa0",
   "metadata": {},
   "outputs": [],
   "source": []
  }
 ],
 "metadata": {
  "kernelspec": {
   "display_name": "repeat",
   "language": "python",
   "name": "repeat"
  },
  "language_info": {
   "codemirror_mode": {
    "name": "ipython",
    "version": 3
   },
   "file_extension": ".py",
   "mimetype": "text/x-python",
   "name": "python",
   "nbconvert_exporter": "python",
   "pygments_lexer": "ipython3",
   "version": "3.8.2"
  }
 },
 "nbformat": 4,
 "nbformat_minor": 5
}
