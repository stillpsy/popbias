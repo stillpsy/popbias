{
 "cells": [
  {
   "cell_type": "code",
   "execution_count": null,
   "id": "c5a8f68a",
   "metadata": {},
   "outputs": [],
   "source": [
    "# movielens dataset generation for GCN"
   ]
  },
  {
   "cell_type": "code",
   "execution_count": 1,
   "id": "69de6c69",
   "metadata": {},
   "outputs": [],
   "source": [
    "import os\n",
    "import time\n",
    "import argparse\n",
    "import numpy as np\n",
    "\n",
    "import torch\n",
    "import torch.nn as nn\n",
    "import torch.optim as optim\n",
    "import torch.utils.data as data\n",
    "import torch.backends.cudnn as cudnn\n",
    "from tensorboardX import SummaryWriter\n",
    "\n",
    "import pandas as pd\n",
    "import matplotlib.pyplot as plt\n",
    "\n",
    "import seaborn as sns"
   ]
  },
  {
   "cell_type": "code",
   "execution_count": null,
   "id": "aa957b3a",
   "metadata": {},
   "outputs": [],
   "source": []
  },
  {
   "cell_type": "code",
   "execution_count": 2,
   "id": "bd0e2d45",
   "metadata": {},
   "outputs": [
    {
     "name": "stderr",
     "output_type": "stream",
     "text": [
      "/tmp/ipykernel_18287/555006589.py:1: ParserWarning: Falling back to the 'python' engine because the 'c' engine does not support regex separators (separators > 1 char and different from '\\s+' are interpreted as regex); you can avoid this warning by specifying engine='python'.\n",
      "  raw = pd.read_csv('./rawdata/ratings.dat', sep = \"::\", header = None)\n"
     ]
    }
   ],
   "source": [
    "raw = pd.read_csv('./rawdata/ratings.dat', sep = \"::\", header = None)"
   ]
  },
  {
   "cell_type": "code",
   "execution_count": 3,
   "id": "d77683ca",
   "metadata": {},
   "outputs": [],
   "source": [
    "raw.columns = ['uid', 'sid', 'ratings', 'timestamp']"
   ]
  },
  {
   "cell_type": "code",
   "execution_count": 4,
   "id": "820ede6d",
   "metadata": {},
   "outputs": [],
   "source": [
    "raw = raw[['uid', 'sid']]"
   ]
  },
  {
   "cell_type": "code",
   "execution_count": 5,
   "id": "785bf9c9",
   "metadata": {},
   "outputs": [],
   "source": [
    "new_items = raw.sid.value_counts()[raw.sid.value_counts() >= 10].reset_index()['index'].values"
   ]
  },
  {
   "cell_type": "code",
   "execution_count": null,
   "id": "496bc45e",
   "metadata": {},
   "outputs": [],
   "source": []
  },
  {
   "cell_type": "code",
   "execution_count": 6,
   "id": "c173eed3",
   "metadata": {},
   "outputs": [],
   "source": [
    "data2 = raw[raw.sid.isin(new_items)]\n",
    "data2 = data2.reset_index()[['uid', 'sid']]"
   ]
  },
  {
   "cell_type": "code",
   "execution_count": null,
   "id": "6b6306e7",
   "metadata": {},
   "outputs": [],
   "source": []
  },
  {
   "cell_type": "markdown",
   "id": "2cb60878",
   "metadata": {},
   "source": [
    "### Reindex by popularity count"
   ]
  },
  {
   "cell_type": "code",
   "execution_count": 7,
   "id": "b5432d59",
   "metadata": {},
   "outputs": [],
   "source": [
    "pop_uid = data2.uid.value_counts().reset_index()\n",
    "pop_uid.columns = ['uid', 'uid_counts']"
   ]
  },
  {
   "cell_type": "code",
   "execution_count": 8,
   "id": "7b38b784",
   "metadata": {},
   "outputs": [],
   "source": [
    "pop_uid_dict = pop_uid.reset_index()\n",
    "pop_uid_dict = pop_uid_dict[['index', 'uid']]\n",
    "pop_uid_dict.columns = ['new_uid', 'uid']\n",
    "\n",
    "pop_uid_dict = dict(zip(pop_uid_dict.uid, pop_uid_dict.new_uid))"
   ]
  },
  {
   "cell_type": "code",
   "execution_count": null,
   "id": "21d44de3",
   "metadata": {},
   "outputs": [],
   "source": []
  },
  {
   "cell_type": "code",
   "execution_count": 9,
   "id": "84acccde",
   "metadata": {},
   "outputs": [],
   "source": [
    "pop_sid = data2.sid.value_counts().reset_index()\n",
    "pop_sid.columns = ['sid', 'sid_counts']"
   ]
  },
  {
   "cell_type": "code",
   "execution_count": 10,
   "id": "50ae3473",
   "metadata": {},
   "outputs": [],
   "source": [
    "pop_sid_dict = pop_sid.reset_index()\n",
    "pop_sid_dict = pop_sid_dict[['index', 'sid']]\n",
    "pop_sid_dict.columns = ['new_sid', 'sid']\n",
    "\n",
    "pop_sid_dict = dict(zip(pop_sid_dict.sid, pop_sid_dict.new_sid))"
   ]
  },
  {
   "cell_type": "code",
   "execution_count": null,
   "id": "71d9ae01",
   "metadata": {},
   "outputs": [],
   "source": []
  },
  {
   "cell_type": "code",
   "execution_count": 11,
   "id": "d6d3a078",
   "metadata": {},
   "outputs": [],
   "source": [
    "data2['uid'] = data2.uid.map(pop_uid_dict).values\n",
    "data2['sid'] = data2.sid.map(pop_sid_dict).values"
   ]
  },
  {
   "cell_type": "code",
   "execution_count": null,
   "id": "eb6c8565",
   "metadata": {},
   "outputs": [],
   "source": []
  },
  {
   "cell_type": "code",
   "execution_count": 12,
   "id": "82caf5e8",
   "metadata": {},
   "outputs": [],
   "source": [
    "data2 = data2.sort_values(['uid', 'sid'], ascending = [True, True])"
   ]
  },
  {
   "cell_type": "code",
   "execution_count": 13,
   "id": "080e330b",
   "metadata": {},
   "outputs": [],
   "source": [
    "tmp = data2\n",
    "tmp['one'] = 1"
   ]
  },
  {
   "cell_type": "code",
   "execution_count": 14,
   "id": "4aa230a7",
   "metadata": {},
   "outputs": [],
   "source": [
    "import seaborn as sns"
   ]
  },
  {
   "cell_type": "code",
   "execution_count": 15,
   "id": "44cbb3b3",
   "metadata": {},
   "outputs": [
    {
     "data": {
      "text/plain": [
       "<AxesSubplot:xlabel='sid', ylabel='uid'>"
      ]
     },
     "execution_count": 15,
     "metadata": {},
     "output_type": "execute_result"
    },
    {
     "data": {
      "image/png": "[encoded data removed]",
      "text/plain": [
       "<Figure size 432x288 with 2 Axes>"
      ]
     },
     "metadata": {
      "needs_background": "light"
     },
     "output_type": "display_data"
    }
   ],
   "source": [
    "sns.heatmap(tmp.pivot_table(index = 'uid', columns = 'sid', values = 'one', fill_value = 0))"
   ]
  },
  {
   "cell_type": "code",
   "execution_count": 16,
   "id": "e10662fb",
   "metadata": {},
   "outputs": [],
   "source": [
    "data2 = data2.reset_index()[['uid', 'sid']]"
   ]
  },
  {
   "cell_type": "code",
   "execution_count": null,
   "id": "f37a2649",
   "metadata": {},
   "outputs": [],
   "source": []
  },
  {
   "cell_type": "code",
   "execution_count": null,
   "id": "4a01fd6a",
   "metadata": {},
   "outputs": [],
   "source": []
  },
  {
   "cell_type": "code",
   "execution_count": 17,
   "id": "3e41a341",
   "metadata": {},
   "outputs": [],
   "source": [
    "total_data = data2"
   ]
  },
  {
   "cell_type": "code",
   "execution_count": 19,
   "id": "16d3e8a5",
   "metadata": {},
   "outputs": [],
   "source": [
    "total_data = total_data.reset_index()[['uid', 'sid']]"
   ]
  },
  {
   "cell_type": "markdown",
   "id": "f14f9a8a",
   "metadata": {},
   "source": [
    "### test data split"
   ]
  },
  {
   "cell_type": "code",
   "execution_count": 20,
   "id": "1a70b531",
   "metadata": {},
   "outputs": [],
   "source": [
    "import random\n",
    "random.seed(0)\n",
    "\n",
    "train_df = total_data.sample(frac = 0.8, random_state = 0)\n",
    "test_df = total_data.loc[list(set(total_data.index) - set(train_df.index)) ]"
   ]
  },
  {
   "cell_type": "code",
   "execution_count": 21,
   "id": "c96a2c13",
   "metadata": {},
   "outputs": [
    {
     "name": "stdout",
     "output_type": "stream",
     "text": [
      "6040\n",
      "3260\n",
      " \n",
      "6040\n",
      "3260\n",
      " \n",
      "6036\n",
      "3244\n"
     ]
    }
   ],
   "source": [
    "print(len(total_data.uid.unique()))\n",
    "print(len(total_data.sid.unique()))\n",
    "print(' ')\n",
    "print(len(train_df.uid.unique()))\n",
    "print(len(train_df.sid.unique()))\n",
    "print(' ')\n",
    "print(len(test_df.uid.unique()))\n",
    "print(len(test_df.sid.unique()))\n"
   ]
  },
  {
   "cell_type": "code",
   "execution_count": 22,
   "id": "88dcba38",
   "metadata": {},
   "outputs": [
    {
     "name": "stdout",
     "output_type": "stream",
     "text": [
      "6036    19\n",
      "6035    19\n",
      "6034    19\n",
      "6038    18\n",
      "6039    17\n",
      "Name: uid, dtype: int64\n",
      "3234    10\n",
      "3258    10\n",
      "3235    10\n",
      "3233    10\n",
      "3244    10\n",
      "Name: sid, dtype: int64\n"
     ]
    }
   ],
   "source": [
    "print(total_data.uid.value_counts().tail())\n",
    "print(total_data.sid.value_counts().tail())"
   ]
  },
  {
   "cell_type": "code",
   "execution_count": 23,
   "id": "263b1cf1",
   "metadata": {},
   "outputs": [
    {
     "name": "stdout",
     "output_type": "stream",
     "text": [
      "5998    13\n",
      "6026    13\n",
      "5931    13\n",
      "6039    12\n",
      "5755    11\n",
      "Name: uid, dtype: int64\n",
      "3246    6\n",
      "3218    6\n",
      "3249    5\n",
      "3195    5\n",
      "3259    5\n",
      "Name: sid, dtype: int64\n"
     ]
    }
   ],
   "source": [
    "print(train_df.uid.value_counts().tail())\n",
    "print(train_df.sid.value_counts().tail())"
   ]
  },
  {
   "cell_type": "code",
   "execution_count": 34,
   "id": "835cefba",
   "metadata": {
    "scrolled": true
   },
   "outputs": [
    {
     "name": "stdout",
     "output_type": "stream",
     "text": [
      "4883    1\n",
      "5884    1\n",
      "5972    1\n",
      "5658    1\n",
      "5550    1\n",
      "Name: uid, dtype: int64\n",
      "3112    1\n",
      "3096    1\n",
      "3248    1\n",
      "3159    1\n",
      "3028    1\n",
      "Name: sid, dtype: int64\n"
     ]
    }
   ],
   "source": [
    "print(test_df.uid.value_counts().tail())\n",
    "print(test_df.sid.value_counts().tail())"
   ]
  },
  {
   "cell_type": "code",
   "execution_count": 24,
   "id": "6efa609c",
   "metadata": {},
   "outputs": [
    {
     "data": {
      "text/html": [
       "<div>\n",
       "<style scoped>\n",
       "    .dataframe tbody tr th:only-of-type {\n",
       "        vertical-align: middle;\n",
       "    }\n",
       "\n",
       "    .dataframe tbody tr th {\n",
       "        vertical-align: top;\n",
       "    }\n",
       "\n",
       "    .dataframe thead th {\n",
       "        text-align: right;\n",
       "    }\n",
       "</style>\n",
       "<table border=\"1\" class=\"dataframe\">\n",
       "  <thead>\n",
       "    <tr style=\"text-align: right;\">\n",
       "      <th></th>\n",
       "      <th>uid</th>\n",
       "      <th>sid</th>\n",
       "    </tr>\n",
       "  </thead>\n",
       "  <tbody>\n",
       "    <tr>\n",
       "      <th>383115</th>\n",
       "      <td>611</td>\n",
       "      <td>497</td>\n",
       "    </tr>\n",
       "    <tr>\n",
       "      <th>209564</th>\n",
       "      <td>251</td>\n",
       "      <td>746</td>\n",
       "    </tr>\n",
       "    <tr>\n",
       "      <th>66909</th>\n",
       "      <td>58</td>\n",
       "      <td>47</td>\n",
       "    </tr>\n",
       "    <tr>\n",
       "      <th>76129</th>\n",
       "      <td>68</td>\n",
       "      <td>396</td>\n",
       "    </tr>\n",
       "    <tr>\n",
       "      <th>155138</th>\n",
       "      <td>168</td>\n",
       "      <td>168</td>\n",
       "    </tr>\n",
       "    <tr>\n",
       "      <th>...</th>\n",
       "      <td>...</td>\n",
       "      <td>...</td>\n",
       "    </tr>\n",
       "    <tr>\n",
       "      <th>973531</th>\n",
       "      <td>5070</td>\n",
       "      <td>20</td>\n",
       "    </tr>\n",
       "    <tr>\n",
       "      <th>545928</th>\n",
       "      <td>1112</td>\n",
       "      <td>130</td>\n",
       "    </tr>\n",
       "    <tr>\n",
       "      <th>95085</th>\n",
       "      <td>90</td>\n",
       "      <td>413</td>\n",
       "    </tr>\n",
       "    <tr>\n",
       "      <th>827821</th>\n",
       "      <td>2768</td>\n",
       "      <td>1800</td>\n",
       "    </tr>\n",
       "    <tr>\n",
       "      <th>439849</th>\n",
       "      <td>764</td>\n",
       "      <td>132</td>\n",
       "    </tr>\n",
       "  </tbody>\n",
       "</table>\n",
       "<p>798831 rows × 2 columns</p>\n",
       "</div>"
      ],
      "text/plain": [
       "         uid   sid\n",
       "383115   611   497\n",
       "209564   251   746\n",
       "66909     58    47\n",
       "76129     68   396\n",
       "155138   168   168\n",
       "...      ...   ...\n",
       "973531  5070    20\n",
       "545928  1112   130\n",
       "95085     90   413\n",
       "827821  2768  1800\n",
       "439849   764   132\n",
       "\n",
       "[798831 rows x 2 columns]"
      ]
     },
     "execution_count": 24,
     "metadata": {},
     "output_type": "execute_result"
    }
   ],
   "source": [
    "train_df"
   ]
  },
  {
   "cell_type": "code",
   "execution_count": 25,
   "id": "64a98a7f",
   "metadata": {},
   "outputs": [
    {
     "data": {
      "text/html": [
       "<div>\n",
       "<style scoped>\n",
       "    .dataframe tbody tr th:only-of-type {\n",
       "        vertical-align: middle;\n",
       "    }\n",
       "\n",
       "    .dataframe tbody tr th {\n",
       "        vertical-align: top;\n",
       "    }\n",
       "\n",
       "    .dataframe thead th {\n",
       "        text-align: right;\n",
       "    }\n",
       "</style>\n",
       "<table border=\"1\" class=\"dataframe\">\n",
       "  <thead>\n",
       "    <tr style=\"text-align: right;\">\n",
       "      <th></th>\n",
       "      <th>uid</th>\n",
       "      <th>sid</th>\n",
       "    </tr>\n",
       "  </thead>\n",
       "  <tbody>\n",
       "    <tr>\n",
       "      <th>1</th>\n",
       "      <td>0</td>\n",
       "      <td>1</td>\n",
       "    </tr>\n",
       "    <tr>\n",
       "      <th>524289</th>\n",
       "      <td>1034</td>\n",
       "      <td>765</td>\n",
       "    </tr>\n",
       "    <tr>\n",
       "      <th>524291</th>\n",
       "      <td>1034</td>\n",
       "      <td>782</td>\n",
       "    </tr>\n",
       "    <tr>\n",
       "      <th>4</th>\n",
       "      <td>0</td>\n",
       "      <td>4</td>\n",
       "    </tr>\n",
       "    <tr>\n",
       "      <th>524297</th>\n",
       "      <td>1034</td>\n",
       "      <td>828</td>\n",
       "    </tr>\n",
       "    <tr>\n",
       "      <th>...</th>\n",
       "      <td>...</td>\n",
       "      <td>...</td>\n",
       "    </tr>\n",
       "    <tr>\n",
       "      <th>524254</th>\n",
       "      <td>1034</td>\n",
       "      <td>544</td>\n",
       "    </tr>\n",
       "    <tr>\n",
       "      <th>524265</th>\n",
       "      <td>1034</td>\n",
       "      <td>612</td>\n",
       "    </tr>\n",
       "    <tr>\n",
       "      <th>524268</th>\n",
       "      <td>1034</td>\n",
       "      <td>637</td>\n",
       "    </tr>\n",
       "    <tr>\n",
       "      <th>524272</th>\n",
       "      <td>1034</td>\n",
       "      <td>675</td>\n",
       "    </tr>\n",
       "    <tr>\n",
       "      <th>524277</th>\n",
       "      <td>1034</td>\n",
       "      <td>700</td>\n",
       "    </tr>\n",
       "  </tbody>\n",
       "</table>\n",
       "<p>199708 rows × 2 columns</p>\n",
       "</div>"
      ],
      "text/plain": [
       "         uid  sid\n",
       "1          0    1\n",
       "524289  1034  765\n",
       "524291  1034  782\n",
       "4          0    4\n",
       "524297  1034  828\n",
       "...      ...  ...\n",
       "524254  1034  544\n",
       "524265  1034  612\n",
       "524268  1034  637\n",
       "524272  1034  675\n",
       "524277  1034  700\n",
       "\n",
       "[199708 rows x 2 columns]"
      ]
     },
     "execution_count": 25,
     "metadata": {},
     "output_type": "execute_result"
    }
   ],
   "source": [
    "test_df"
   ]
  },
  {
   "cell_type": "markdown",
   "id": "05c89bbe",
   "metadata": {},
   "source": [
    "### Make 'test' negative sample"
   ]
  },
  {
   "cell_type": "code",
   "execution_count": 26,
   "id": "edbe362c",
   "metadata": {},
   "outputs": [],
   "source": [
    "random.seed(0)\n",
    "\n",
    "n_user = len(total_data.uid.unique())\n",
    "n_item = len(total_data.sid.unique())\n",
    "\n",
    "item_set = set(list(range(n_item)))\n",
    "neg_sample_df = pd.DataFrame({'uid' : [], 'sid' : []})\n",
    "\n",
    "for user in list(range(n_user)):\n",
    "    true_set = total_data[total_data['uid'] == user]['sid'].values\n",
    "    true_set = set(true_set)\n",
    "    user_neg_samples = item_set - true_set\n",
    "    user_neg_samples = list(user_neg_samples)\n",
    "    \n",
    "    list_len = len(user_neg_samples)\n",
    "    user_neg_samples = random.sample(user_neg_samples, 100)\n",
    "    tmp_neg_sample_df = pd.DataFrame({'uid' : [user]*100, 'sid' : user_neg_samples})\n",
    "    \n",
    "    neg_sample_df = pd.concat([neg_sample_df, tmp_neg_sample_df])"
   ]
  },
  {
   "cell_type": "code",
   "execution_count": 27,
   "id": "9e6d6d18",
   "metadata": {},
   "outputs": [
    {
     "data": {
      "text/html": [
       "<div>\n",
       "<style scoped>\n",
       "    .dataframe tbody tr th:only-of-type {\n",
       "        vertical-align: middle;\n",
       "    }\n",
       "\n",
       "    .dataframe tbody tr th {\n",
       "        vertical-align: top;\n",
       "    }\n",
       "\n",
       "    .dataframe thead th {\n",
       "        text-align: right;\n",
       "    }\n",
       "</style>\n",
       "<table border=\"1\" class=\"dataframe\">\n",
       "  <thead>\n",
       "    <tr style=\"text-align: right;\">\n",
       "      <th></th>\n",
       "      <th>uid</th>\n",
       "      <th>sid</th>\n",
       "    </tr>\n",
       "  </thead>\n",
       "  <tbody>\n",
       "    <tr>\n",
       "      <th>0</th>\n",
       "      <td>0.0</td>\n",
       "      <td>1402.0</td>\n",
       "    </tr>\n",
       "    <tr>\n",
       "      <th>1</th>\n",
       "      <td>0.0</td>\n",
       "      <td>1639.0</td>\n",
       "    </tr>\n",
       "    <tr>\n",
       "      <th>2</th>\n",
       "      <td>0.0</td>\n",
       "      <td>2270.0</td>\n",
       "    </tr>\n",
       "    <tr>\n",
       "      <th>3</th>\n",
       "      <td>0.0</td>\n",
       "      <td>3006.0</td>\n",
       "    </tr>\n",
       "    <tr>\n",
       "      <th>4</th>\n",
       "      <td>0.0</td>\n",
       "      <td>1948.0</td>\n",
       "    </tr>\n",
       "    <tr>\n",
       "      <th>...</th>\n",
       "      <td>...</td>\n",
       "      <td>...</td>\n",
       "    </tr>\n",
       "    <tr>\n",
       "      <th>95</th>\n",
       "      <td>6039.0</td>\n",
       "      <td>2188.0</td>\n",
       "    </tr>\n",
       "    <tr>\n",
       "      <th>96</th>\n",
       "      <td>6039.0</td>\n",
       "      <td>1309.0</td>\n",
       "    </tr>\n",
       "    <tr>\n",
       "      <th>97</th>\n",
       "      <td>6039.0</td>\n",
       "      <td>2891.0</td>\n",
       "    </tr>\n",
       "    <tr>\n",
       "      <th>98</th>\n",
       "      <td>6039.0</td>\n",
       "      <td>533.0</td>\n",
       "    </tr>\n",
       "    <tr>\n",
       "      <th>99</th>\n",
       "      <td>6039.0</td>\n",
       "      <td>1933.0</td>\n",
       "    </tr>\n",
       "  </tbody>\n",
       "</table>\n",
       "<p>604000 rows × 2 columns</p>\n",
       "</div>"
      ],
      "text/plain": [
       "       uid     sid\n",
       "0      0.0  1402.0\n",
       "1      0.0  1639.0\n",
       "2      0.0  2270.0\n",
       "3      0.0  3006.0\n",
       "4      0.0  1948.0\n",
       "..     ...     ...\n",
       "95  6039.0  2188.0\n",
       "96  6039.0  1309.0\n",
       "97  6039.0  2891.0\n",
       "98  6039.0   533.0\n",
       "99  6039.0  1933.0\n",
       "\n",
       "[604000 rows x 2 columns]"
      ]
     },
     "execution_count": 27,
     "metadata": {},
     "output_type": "execute_result"
    }
   ],
   "source": [
    "neg_sample_df"
   ]
  },
  {
   "cell_type": "code",
   "execution_count": 28,
   "id": "7748c831",
   "metadata": {},
   "outputs": [],
   "source": [
    "neg_sample_df['uid'] = neg_sample_df['uid'].astype(int)\n",
    "neg_sample_df['sid'] = neg_sample_df['sid'].astype(int)"
   ]
  },
  {
   "cell_type": "code",
   "execution_count": 29,
   "id": "ec354512",
   "metadata": {},
   "outputs": [],
   "source": [
    "test_df['type'] = 'pos'\n",
    "neg_sample_df['type'] = 'neg'"
   ]
  },
  {
   "cell_type": "code",
   "execution_count": 30,
   "id": "bae24c1a",
   "metadata": {},
   "outputs": [
    {
     "data": {
      "text/html": [
       "<div>\n",
       "<style scoped>\n",
       "    .dataframe tbody tr th:only-of-type {\n",
       "        vertical-align: middle;\n",
       "    }\n",
       "\n",
       "    .dataframe tbody tr th {\n",
       "        vertical-align: top;\n",
       "    }\n",
       "\n",
       "    .dataframe thead th {\n",
       "        text-align: right;\n",
       "    }\n",
       "</style>\n",
       "<table border=\"1\" class=\"dataframe\">\n",
       "  <thead>\n",
       "    <tr style=\"text-align: right;\">\n",
       "      <th></th>\n",
       "      <th>uid</th>\n",
       "      <th>sid</th>\n",
       "      <th>type</th>\n",
       "    </tr>\n",
       "  </thead>\n",
       "  <tbody>\n",
       "    <tr>\n",
       "      <th>1</th>\n",
       "      <td>0</td>\n",
       "      <td>1</td>\n",
       "      <td>pos</td>\n",
       "    </tr>\n",
       "    <tr>\n",
       "      <th>524289</th>\n",
       "      <td>1034</td>\n",
       "      <td>765</td>\n",
       "      <td>pos</td>\n",
       "    </tr>\n",
       "    <tr>\n",
       "      <th>524291</th>\n",
       "      <td>1034</td>\n",
       "      <td>782</td>\n",
       "      <td>pos</td>\n",
       "    </tr>\n",
       "    <tr>\n",
       "      <th>4</th>\n",
       "      <td>0</td>\n",
       "      <td>4</td>\n",
       "      <td>pos</td>\n",
       "    </tr>\n",
       "    <tr>\n",
       "      <th>524297</th>\n",
       "      <td>1034</td>\n",
       "      <td>828</td>\n",
       "      <td>pos</td>\n",
       "    </tr>\n",
       "    <tr>\n",
       "      <th>...</th>\n",
       "      <td>...</td>\n",
       "      <td>...</td>\n",
       "      <td>...</td>\n",
       "    </tr>\n",
       "    <tr>\n",
       "      <th>524254</th>\n",
       "      <td>1034</td>\n",
       "      <td>544</td>\n",
       "      <td>pos</td>\n",
       "    </tr>\n",
       "    <tr>\n",
       "      <th>524265</th>\n",
       "      <td>1034</td>\n",
       "      <td>612</td>\n",
       "      <td>pos</td>\n",
       "    </tr>\n",
       "    <tr>\n",
       "      <th>524268</th>\n",
       "      <td>1034</td>\n",
       "      <td>637</td>\n",
       "      <td>pos</td>\n",
       "    </tr>\n",
       "    <tr>\n",
       "      <th>524272</th>\n",
       "      <td>1034</td>\n",
       "      <td>675</td>\n",
       "      <td>pos</td>\n",
       "    </tr>\n",
       "    <tr>\n",
       "      <th>524277</th>\n",
       "      <td>1034</td>\n",
       "      <td>700</td>\n",
       "      <td>pos</td>\n",
       "    </tr>\n",
       "  </tbody>\n",
       "</table>\n",
       "<p>199708 rows × 3 columns</p>\n",
       "</div>"
      ],
      "text/plain": [
       "         uid  sid type\n",
       "1          0    1  pos\n",
       "524289  1034  765  pos\n",
       "524291  1034  782  pos\n",
       "4          0    4  pos\n",
       "524297  1034  828  pos\n",
       "...      ...  ...  ...\n",
       "524254  1034  544  pos\n",
       "524265  1034  612  pos\n",
       "524268  1034  637  pos\n",
       "524272  1034  675  pos\n",
       "524277  1034  700  pos\n",
       "\n",
       "[199708 rows x 3 columns]"
      ]
     },
     "execution_count": 30,
     "metadata": {},
     "output_type": "execute_result"
    }
   ],
   "source": [
    "test_df"
   ]
  },
  {
   "cell_type": "code",
   "execution_count": 31,
   "id": "08db2158",
   "metadata": {},
   "outputs": [
    {
     "data": {
      "text/html": [
       "<div>\n",
       "<style scoped>\n",
       "    .dataframe tbody tr th:only-of-type {\n",
       "        vertical-align: middle;\n",
       "    }\n",
       "\n",
       "    .dataframe tbody tr th {\n",
       "        vertical-align: top;\n",
       "    }\n",
       "\n",
       "    .dataframe thead th {\n",
       "        text-align: right;\n",
       "    }\n",
       "</style>\n",
       "<table border=\"1\" class=\"dataframe\">\n",
       "  <thead>\n",
       "    <tr style=\"text-align: right;\">\n",
       "      <th></th>\n",
       "      <th>uid</th>\n",
       "      <th>sid</th>\n",
       "      <th>type</th>\n",
       "    </tr>\n",
       "  </thead>\n",
       "  <tbody>\n",
       "    <tr>\n",
       "      <th>0</th>\n",
       "      <td>0</td>\n",
       "      <td>1402</td>\n",
       "      <td>neg</td>\n",
       "    </tr>\n",
       "    <tr>\n",
       "      <th>1</th>\n",
       "      <td>0</td>\n",
       "      <td>1639</td>\n",
       "      <td>neg</td>\n",
       "    </tr>\n",
       "    <tr>\n",
       "      <th>2</th>\n",
       "      <td>0</td>\n",
       "      <td>2270</td>\n",
       "      <td>neg</td>\n",
       "    </tr>\n",
       "    <tr>\n",
       "      <th>3</th>\n",
       "      <td>0</td>\n",
       "      <td>3006</td>\n",
       "      <td>neg</td>\n",
       "    </tr>\n",
       "    <tr>\n",
       "      <th>4</th>\n",
       "      <td>0</td>\n",
       "      <td>1948</td>\n",
       "      <td>neg</td>\n",
       "    </tr>\n",
       "    <tr>\n",
       "      <th>...</th>\n",
       "      <td>...</td>\n",
       "      <td>...</td>\n",
       "      <td>...</td>\n",
       "    </tr>\n",
       "    <tr>\n",
       "      <th>95</th>\n",
       "      <td>6039</td>\n",
       "      <td>2188</td>\n",
       "      <td>neg</td>\n",
       "    </tr>\n",
       "    <tr>\n",
       "      <th>96</th>\n",
       "      <td>6039</td>\n",
       "      <td>1309</td>\n",
       "      <td>neg</td>\n",
       "    </tr>\n",
       "    <tr>\n",
       "      <th>97</th>\n",
       "      <td>6039</td>\n",
       "      <td>2891</td>\n",
       "      <td>neg</td>\n",
       "    </tr>\n",
       "    <tr>\n",
       "      <th>98</th>\n",
       "      <td>6039</td>\n",
       "      <td>533</td>\n",
       "      <td>neg</td>\n",
       "    </tr>\n",
       "    <tr>\n",
       "      <th>99</th>\n",
       "      <td>6039</td>\n",
       "      <td>1933</td>\n",
       "      <td>neg</td>\n",
       "    </tr>\n",
       "  </tbody>\n",
       "</table>\n",
       "<p>604000 rows × 3 columns</p>\n",
       "</div>"
      ],
      "text/plain": [
       "     uid   sid type\n",
       "0      0  1402  neg\n",
       "1      0  1639  neg\n",
       "2      0  2270  neg\n",
       "3      0  3006  neg\n",
       "4      0  1948  neg\n",
       "..   ...   ...  ...\n",
       "95  6039  2188  neg\n",
       "96  6039  1309  neg\n",
       "97  6039  2891  neg\n",
       "98  6039   533  neg\n",
       "99  6039  1933  neg\n",
       "\n",
       "[604000 rows x 3 columns]"
      ]
     },
     "execution_count": 31,
     "metadata": {},
     "output_type": "execute_result"
    }
   ],
   "source": [
    "neg_sample_df"
   ]
  },
  {
   "cell_type": "code",
   "execution_count": null,
   "id": "6994e6a6",
   "metadata": {},
   "outputs": [],
   "source": []
  },
  {
   "cell_type": "code",
   "execution_count": 32,
   "id": "c35fc1f8",
   "metadata": {},
   "outputs": [],
   "source": [
    "test_neg_sample_df = neg_sample_df.copy()\n",
    "test_df_with_neg = pd.concat([test_df, neg_sample_df])"
   ]
  },
  {
   "cell_type": "code",
   "execution_count": 33,
   "id": "ba822476",
   "metadata": {},
   "outputs": [
    {
     "data": {
      "text/html": [
       "<div>\n",
       "<style scoped>\n",
       "    .dataframe tbody tr th:only-of-type {\n",
       "        vertical-align: middle;\n",
       "    }\n",
       "\n",
       "    .dataframe tbody tr th {\n",
       "        vertical-align: top;\n",
       "    }\n",
       "\n",
       "    .dataframe thead th {\n",
       "        text-align: right;\n",
       "    }\n",
       "</style>\n",
       "<table border=\"1\" class=\"dataframe\">\n",
       "  <thead>\n",
       "    <tr style=\"text-align: right;\">\n",
       "      <th></th>\n",
       "      <th>uid</th>\n",
       "      <th>sid</th>\n",
       "      <th>type</th>\n",
       "    </tr>\n",
       "  </thead>\n",
       "  <tbody>\n",
       "    <tr>\n",
       "      <th>1</th>\n",
       "      <td>0</td>\n",
       "      <td>1</td>\n",
       "      <td>pos</td>\n",
       "    </tr>\n",
       "    <tr>\n",
       "      <th>524289</th>\n",
       "      <td>1034</td>\n",
       "      <td>765</td>\n",
       "      <td>pos</td>\n",
       "    </tr>\n",
       "    <tr>\n",
       "      <th>524291</th>\n",
       "      <td>1034</td>\n",
       "      <td>782</td>\n",
       "      <td>pos</td>\n",
       "    </tr>\n",
       "    <tr>\n",
       "      <th>4</th>\n",
       "      <td>0</td>\n",
       "      <td>4</td>\n",
       "      <td>pos</td>\n",
       "    </tr>\n",
       "    <tr>\n",
       "      <th>524297</th>\n",
       "      <td>1034</td>\n",
       "      <td>828</td>\n",
       "      <td>pos</td>\n",
       "    </tr>\n",
       "    <tr>\n",
       "      <th>...</th>\n",
       "      <td>...</td>\n",
       "      <td>...</td>\n",
       "      <td>...</td>\n",
       "    </tr>\n",
       "    <tr>\n",
       "      <th>95</th>\n",
       "      <td>6039</td>\n",
       "      <td>2188</td>\n",
       "      <td>neg</td>\n",
       "    </tr>\n",
       "    <tr>\n",
       "      <th>96</th>\n",
       "      <td>6039</td>\n",
       "      <td>1309</td>\n",
       "      <td>neg</td>\n",
       "    </tr>\n",
       "    <tr>\n",
       "      <th>97</th>\n",
       "      <td>6039</td>\n",
       "      <td>2891</td>\n",
       "      <td>neg</td>\n",
       "    </tr>\n",
       "    <tr>\n",
       "      <th>98</th>\n",
       "      <td>6039</td>\n",
       "      <td>533</td>\n",
       "      <td>neg</td>\n",
       "    </tr>\n",
       "    <tr>\n",
       "      <th>99</th>\n",
       "      <td>6039</td>\n",
       "      <td>1933</td>\n",
       "      <td>neg</td>\n",
       "    </tr>\n",
       "  </tbody>\n",
       "</table>\n",
       "<p>803708 rows × 3 columns</p>\n",
       "</div>"
      ],
      "text/plain": [
       "         uid   sid type\n",
       "1          0     1  pos\n",
       "524289  1034   765  pos\n",
       "524291  1034   782  pos\n",
       "4          0     4  pos\n",
       "524297  1034   828  pos\n",
       "...      ...   ...  ...\n",
       "95      6039  2188  neg\n",
       "96      6039  1309  neg\n",
       "97      6039  2891  neg\n",
       "98      6039   533  neg\n",
       "99      6039  1933  neg\n",
       "\n",
       "[803708 rows x 3 columns]"
      ]
     },
     "execution_count": 33,
     "metadata": {},
     "output_type": "execute_result"
    }
   ],
   "source": [
    "test_df_with_neg"
   ]
  },
  {
   "cell_type": "code",
   "execution_count": null,
   "id": "91923546",
   "metadata": {},
   "outputs": [],
   "source": []
  },
  {
   "cell_type": "code",
   "execution_count": 34,
   "id": "c48902ce",
   "metadata": {},
   "outputs": [
    {
     "data": {
      "text/html": [
       "<div>\n",
       "<style scoped>\n",
       "    .dataframe tbody tr th:only-of-type {\n",
       "        vertical-align: middle;\n",
       "    }\n",
       "\n",
       "    .dataframe tbody tr th {\n",
       "        vertical-align: top;\n",
       "    }\n",
       "\n",
       "    .dataframe thead th {\n",
       "        text-align: right;\n",
       "    }\n",
       "</style>\n",
       "<table border=\"1\" class=\"dataframe\">\n",
       "  <thead>\n",
       "    <tr style=\"text-align: right;\">\n",
       "      <th></th>\n",
       "      <th>uid</th>\n",
       "      <th>sid</th>\n",
       "    </tr>\n",
       "  </thead>\n",
       "  <tbody>\n",
       "    <tr>\n",
       "      <th>383115</th>\n",
       "      <td>611</td>\n",
       "      <td>497</td>\n",
       "    </tr>\n",
       "    <tr>\n",
       "      <th>209564</th>\n",
       "      <td>251</td>\n",
       "      <td>746</td>\n",
       "    </tr>\n",
       "    <tr>\n",
       "      <th>66909</th>\n",
       "      <td>58</td>\n",
       "      <td>47</td>\n",
       "    </tr>\n",
       "    <tr>\n",
       "      <th>76129</th>\n",
       "      <td>68</td>\n",
       "      <td>396</td>\n",
       "    </tr>\n",
       "    <tr>\n",
       "      <th>155138</th>\n",
       "      <td>168</td>\n",
       "      <td>168</td>\n",
       "    </tr>\n",
       "    <tr>\n",
       "      <th>...</th>\n",
       "      <td>...</td>\n",
       "      <td>...</td>\n",
       "    </tr>\n",
       "    <tr>\n",
       "      <th>973531</th>\n",
       "      <td>5070</td>\n",
       "      <td>20</td>\n",
       "    </tr>\n",
       "    <tr>\n",
       "      <th>545928</th>\n",
       "      <td>1112</td>\n",
       "      <td>130</td>\n",
       "    </tr>\n",
       "    <tr>\n",
       "      <th>95085</th>\n",
       "      <td>90</td>\n",
       "      <td>413</td>\n",
       "    </tr>\n",
       "    <tr>\n",
       "      <th>827821</th>\n",
       "      <td>2768</td>\n",
       "      <td>1800</td>\n",
       "    </tr>\n",
       "    <tr>\n",
       "      <th>439849</th>\n",
       "      <td>764</td>\n",
       "      <td>132</td>\n",
       "    </tr>\n",
       "  </tbody>\n",
       "</table>\n",
       "<p>798831 rows × 2 columns</p>\n",
       "</div>"
      ],
      "text/plain": [
       "         uid   sid\n",
       "383115   611   497\n",
       "209564   251   746\n",
       "66909     58    47\n",
       "76129     68   396\n",
       "155138   168   168\n",
       "...      ...   ...\n",
       "973531  5070    20\n",
       "545928  1112   130\n",
       "95085     90   413\n",
       "827821  2768  1800\n",
       "439849   764   132\n",
       "\n",
       "[798831 rows x 2 columns]"
      ]
     },
     "execution_count": 34,
     "metadata": {},
     "output_type": "execute_result"
    }
   ],
   "source": [
    "train_df"
   ]
  },
  {
   "cell_type": "code",
   "execution_count": 35,
   "id": "fe4e685e",
   "metadata": {},
   "outputs": [],
   "source": [
    "train_df = train_df.reset_index()[['uid', 'sid']]"
   ]
  },
  {
   "cell_type": "code",
   "execution_count": 36,
   "id": "411a407d",
   "metadata": {},
   "outputs": [],
   "source": [
    "test_df = test_df.reset_index()[['uid', 'sid', 'type']]"
   ]
  },
  {
   "cell_type": "code",
   "execution_count": 38,
   "id": "6d3b68cf",
   "metadata": {},
   "outputs": [],
   "source": [
    "### neg_sample_df == test_neg_sample_df\n",
    "neg_sample_df = neg_sample_df.reset_index()[['uid', 'sid', 'type']]"
   ]
  },
  {
   "cell_type": "code",
   "execution_count": 39,
   "id": "dc5a2f0a",
   "metadata": {},
   "outputs": [],
   "source": [
    "test_df_with_neg = test_df_with_neg.reset_index()[['uid', 'sid', 'type']]"
   ]
  },
  {
   "cell_type": "code",
   "execution_count": null,
   "id": "84661d88",
   "metadata": {},
   "outputs": [],
   "source": []
  },
  {
   "cell_type": "code",
   "execution_count": 40,
   "id": "c796b033",
   "metadata": {},
   "outputs": [
    {
     "data": {
      "text/html": [
       "<div>\n",
       "<style scoped>\n",
       "    .dataframe tbody tr th:only-of-type {\n",
       "        vertical-align: middle;\n",
       "    }\n",
       "\n",
       "    .dataframe tbody tr th {\n",
       "        vertical-align: top;\n",
       "    }\n",
       "\n",
       "    .dataframe thead th {\n",
       "        text-align: right;\n",
       "    }\n",
       "</style>\n",
       "<table border=\"1\" class=\"dataframe\">\n",
       "  <thead>\n",
       "    <tr style=\"text-align: right;\">\n",
       "      <th></th>\n",
       "      <th>uid</th>\n",
       "      <th>sid</th>\n",
       "    </tr>\n",
       "  </thead>\n",
       "  <tbody>\n",
       "    <tr>\n",
       "      <th>0</th>\n",
       "      <td>611</td>\n",
       "      <td>497</td>\n",
       "    </tr>\n",
       "    <tr>\n",
       "      <th>1</th>\n",
       "      <td>251</td>\n",
       "      <td>746</td>\n",
       "    </tr>\n",
       "    <tr>\n",
       "      <th>2</th>\n",
       "      <td>58</td>\n",
       "      <td>47</td>\n",
       "    </tr>\n",
       "    <tr>\n",
       "      <th>3</th>\n",
       "      <td>68</td>\n",
       "      <td>396</td>\n",
       "    </tr>\n",
       "    <tr>\n",
       "      <th>4</th>\n",
       "      <td>168</td>\n",
       "      <td>168</td>\n",
       "    </tr>\n",
       "    <tr>\n",
       "      <th>...</th>\n",
       "      <td>...</td>\n",
       "      <td>...</td>\n",
       "    </tr>\n",
       "    <tr>\n",
       "      <th>798826</th>\n",
       "      <td>5070</td>\n",
       "      <td>20</td>\n",
       "    </tr>\n",
       "    <tr>\n",
       "      <th>798827</th>\n",
       "      <td>1112</td>\n",
       "      <td>130</td>\n",
       "    </tr>\n",
       "    <tr>\n",
       "      <th>798828</th>\n",
       "      <td>90</td>\n",
       "      <td>413</td>\n",
       "    </tr>\n",
       "    <tr>\n",
       "      <th>798829</th>\n",
       "      <td>2768</td>\n",
       "      <td>1800</td>\n",
       "    </tr>\n",
       "    <tr>\n",
       "      <th>798830</th>\n",
       "      <td>764</td>\n",
       "      <td>132</td>\n",
       "    </tr>\n",
       "  </tbody>\n",
       "</table>\n",
       "<p>798831 rows × 2 columns</p>\n",
       "</div>"
      ],
      "text/plain": [
       "         uid   sid\n",
       "0        611   497\n",
       "1        251   746\n",
       "2         58    47\n",
       "3         68   396\n",
       "4        168   168\n",
       "...      ...   ...\n",
       "798826  5070    20\n",
       "798827  1112   130\n",
       "798828    90   413\n",
       "798829  2768  1800\n",
       "798830   764   132\n",
       "\n",
       "[798831 rows x 2 columns]"
      ]
     },
     "execution_count": 40,
     "metadata": {},
     "output_type": "execute_result"
    }
   ],
   "source": [
    "train_df"
   ]
  },
  {
   "cell_type": "markdown",
   "id": "01fde58b",
   "metadata": {},
   "source": [
    "### val data split"
   ]
  },
  {
   "cell_type": "code",
   "execution_count": 41,
   "id": "164d79ef",
   "metadata": {},
   "outputs": [],
   "source": [
    "real_train_df = train_df.sample(frac = 0.75, random_state = 0)"
   ]
  },
  {
   "cell_type": "code",
   "execution_count": 42,
   "id": "6646d523",
   "metadata": {},
   "outputs": [],
   "source": [
    "val_df = train_df.loc[list(set(train_df.index) - set(real_train_df.index)) ]"
   ]
  },
  {
   "cell_type": "code",
   "execution_count": 43,
   "id": "0ce1f8a1",
   "metadata": {},
   "outputs": [
    {
     "data": {
      "text/html": [
       "<div>\n",
       "<style scoped>\n",
       "    .dataframe tbody tr th:only-of-type {\n",
       "        vertical-align: middle;\n",
       "    }\n",
       "\n",
       "    .dataframe tbody tr th {\n",
       "        vertical-align: top;\n",
       "    }\n",
       "\n",
       "    .dataframe thead th {\n",
       "        text-align: right;\n",
       "    }\n",
       "</style>\n",
       "<table border=\"1\" class=\"dataframe\">\n",
       "  <thead>\n",
       "    <tr style=\"text-align: right;\">\n",
       "      <th></th>\n",
       "      <th>uid</th>\n",
       "      <th>sid</th>\n",
       "    </tr>\n",
       "  </thead>\n",
       "  <tbody>\n",
       "    <tr>\n",
       "      <th>698519</th>\n",
       "      <td>660</td>\n",
       "      <td>203</td>\n",
       "    </tr>\n",
       "    <tr>\n",
       "      <th>1097</th>\n",
       "      <td>941</td>\n",
       "      <td>1038</td>\n",
       "    </tr>\n",
       "    <tr>\n",
       "      <th>453535</th>\n",
       "      <td>451</td>\n",
       "      <td>281</td>\n",
       "    </tr>\n",
       "    <tr>\n",
       "      <th>38882</th>\n",
       "      <td>4633</td>\n",
       "      <td>1113</td>\n",
       "    </tr>\n",
       "    <tr>\n",
       "      <th>422735</th>\n",
       "      <td>926</td>\n",
       "      <td>581</td>\n",
       "    </tr>\n",
       "    <tr>\n",
       "      <th>...</th>\n",
       "      <td>...</td>\n",
       "      <td>...</td>\n",
       "    </tr>\n",
       "    <tr>\n",
       "      <th>593974</th>\n",
       "      <td>651</td>\n",
       "      <td>1335</td>\n",
       "    </tr>\n",
       "    <tr>\n",
       "      <th>703961</th>\n",
       "      <td>4381</td>\n",
       "      <td>294</td>\n",
       "    </tr>\n",
       "    <tr>\n",
       "      <th>452675</th>\n",
       "      <td>2544</td>\n",
       "      <td>145</td>\n",
       "    </tr>\n",
       "    <tr>\n",
       "      <th>535606</th>\n",
       "      <td>1290</td>\n",
       "      <td>377</td>\n",
       "    </tr>\n",
       "    <tr>\n",
       "      <th>544202</th>\n",
       "      <td>588</td>\n",
       "      <td>391</td>\n",
       "    </tr>\n",
       "  </tbody>\n",
       "</table>\n",
       "<p>599123 rows × 2 columns</p>\n",
       "</div>"
      ],
      "text/plain": [
       "         uid   sid\n",
       "698519   660   203\n",
       "1097     941  1038\n",
       "453535   451   281\n",
       "38882   4633  1113\n",
       "422735   926   581\n",
       "...      ...   ...\n",
       "593974   651  1335\n",
       "703961  4381   294\n",
       "452675  2544   145\n",
       "535606  1290   377\n",
       "544202   588   391\n",
       "\n",
       "[599123 rows x 2 columns]"
      ]
     },
     "execution_count": 43,
     "metadata": {},
     "output_type": "execute_result"
    }
   ],
   "source": [
    "real_train_df"
   ]
  },
  {
   "cell_type": "code",
   "execution_count": 44,
   "id": "19e08131",
   "metadata": {},
   "outputs": [
    {
     "data": {
      "text/html": [
       "<div>\n",
       "<style scoped>\n",
       "    .dataframe tbody tr th:only-of-type {\n",
       "        vertical-align: middle;\n",
       "    }\n",
       "\n",
       "    .dataframe tbody tr th {\n",
       "        vertical-align: top;\n",
       "    }\n",
       "\n",
       "    .dataframe thead th {\n",
       "        text-align: right;\n",
       "    }\n",
       "</style>\n",
       "<table border=\"1\" class=\"dataframe\">\n",
       "  <thead>\n",
       "    <tr style=\"text-align: right;\">\n",
       "      <th></th>\n",
       "      <th>uid</th>\n",
       "      <th>sid</th>\n",
       "    </tr>\n",
       "  </thead>\n",
       "  <tbody>\n",
       "    <tr>\n",
       "      <th>524288</th>\n",
       "      <td>1838</td>\n",
       "      <td>1828</td>\n",
       "    </tr>\n",
       "    <tr>\n",
       "      <th>1</th>\n",
       "      <td>251</td>\n",
       "      <td>746</td>\n",
       "    </tr>\n",
       "    <tr>\n",
       "      <th>524289</th>\n",
       "      <td>718</td>\n",
       "      <td>403</td>\n",
       "    </tr>\n",
       "    <tr>\n",
       "      <th>524291</th>\n",
       "      <td>1164</td>\n",
       "      <td>304</td>\n",
       "    </tr>\n",
       "    <tr>\n",
       "      <th>4</th>\n",
       "      <td>168</td>\n",
       "      <td>168</td>\n",
       "    </tr>\n",
       "    <tr>\n",
       "      <th>...</th>\n",
       "      <td>...</td>\n",
       "      <td>...</td>\n",
       "    </tr>\n",
       "    <tr>\n",
       "      <th>524265</th>\n",
       "      <td>53</td>\n",
       "      <td>796</td>\n",
       "    </tr>\n",
       "    <tr>\n",
       "      <th>524268</th>\n",
       "      <td>2367</td>\n",
       "      <td>1258</td>\n",
       "    </tr>\n",
       "    <tr>\n",
       "      <th>524272</th>\n",
       "      <td>5461</td>\n",
       "      <td>532</td>\n",
       "    </tr>\n",
       "    <tr>\n",
       "      <th>524274</th>\n",
       "      <td>447</td>\n",
       "      <td>85</td>\n",
       "    </tr>\n",
       "    <tr>\n",
       "      <th>524277</th>\n",
       "      <td>171</td>\n",
       "      <td>363</td>\n",
       "    </tr>\n",
       "  </tbody>\n",
       "</table>\n",
       "<p>199708 rows × 2 columns</p>\n",
       "</div>"
      ],
      "text/plain": [
       "         uid   sid\n",
       "524288  1838  1828\n",
       "1        251   746\n",
       "524289   718   403\n",
       "524291  1164   304\n",
       "4        168   168\n",
       "...      ...   ...\n",
       "524265    53   796\n",
       "524268  2367  1258\n",
       "524272  5461   532\n",
       "524274   447    85\n",
       "524277   171   363\n",
       "\n",
       "[199708 rows x 2 columns]"
      ]
     },
     "execution_count": 44,
     "metadata": {},
     "output_type": "execute_result"
    }
   ],
   "source": [
    "val_df"
   ]
  },
  {
   "cell_type": "code",
   "execution_count": 45,
   "id": "cfd3673c",
   "metadata": {},
   "outputs": [],
   "source": [
    "val_df['type'] = 'pos'"
   ]
  },
  {
   "cell_type": "code",
   "execution_count": 46,
   "id": "478bac23",
   "metadata": {},
   "outputs": [],
   "source": [
    "val_df_with_neg = pd.concat([val_df, neg_sample_df])"
   ]
  },
  {
   "cell_type": "code",
   "execution_count": 47,
   "id": "630de24f",
   "metadata": {},
   "outputs": [
    {
     "data": {
      "text/html": [
       "<div>\n",
       "<style scoped>\n",
       "    .dataframe tbody tr th:only-of-type {\n",
       "        vertical-align: middle;\n",
       "    }\n",
       "\n",
       "    .dataframe tbody tr th {\n",
       "        vertical-align: top;\n",
       "    }\n",
       "\n",
       "    .dataframe thead th {\n",
       "        text-align: right;\n",
       "    }\n",
       "</style>\n",
       "<table border=\"1\" class=\"dataframe\">\n",
       "  <thead>\n",
       "    <tr style=\"text-align: right;\">\n",
       "      <th></th>\n",
       "      <th>uid</th>\n",
       "      <th>sid</th>\n",
       "      <th>type</th>\n",
       "    </tr>\n",
       "  </thead>\n",
       "  <tbody>\n",
       "    <tr>\n",
       "      <th>524288</th>\n",
       "      <td>1838</td>\n",
       "      <td>1828</td>\n",
       "      <td>pos</td>\n",
       "    </tr>\n",
       "    <tr>\n",
       "      <th>1</th>\n",
       "      <td>251</td>\n",
       "      <td>746</td>\n",
       "      <td>pos</td>\n",
       "    </tr>\n",
       "    <tr>\n",
       "      <th>524289</th>\n",
       "      <td>718</td>\n",
       "      <td>403</td>\n",
       "      <td>pos</td>\n",
       "    </tr>\n",
       "    <tr>\n",
       "      <th>524291</th>\n",
       "      <td>1164</td>\n",
       "      <td>304</td>\n",
       "      <td>pos</td>\n",
       "    </tr>\n",
       "    <tr>\n",
       "      <th>4</th>\n",
       "      <td>168</td>\n",
       "      <td>168</td>\n",
       "      <td>pos</td>\n",
       "    </tr>\n",
       "    <tr>\n",
       "      <th>...</th>\n",
       "      <td>...</td>\n",
       "      <td>...</td>\n",
       "      <td>...</td>\n",
       "    </tr>\n",
       "    <tr>\n",
       "      <th>603995</th>\n",
       "      <td>6039</td>\n",
       "      <td>2188</td>\n",
       "      <td>neg</td>\n",
       "    </tr>\n",
       "    <tr>\n",
       "      <th>603996</th>\n",
       "      <td>6039</td>\n",
       "      <td>1309</td>\n",
       "      <td>neg</td>\n",
       "    </tr>\n",
       "    <tr>\n",
       "      <th>603997</th>\n",
       "      <td>6039</td>\n",
       "      <td>2891</td>\n",
       "      <td>neg</td>\n",
       "    </tr>\n",
       "    <tr>\n",
       "      <th>603998</th>\n",
       "      <td>6039</td>\n",
       "      <td>533</td>\n",
       "      <td>neg</td>\n",
       "    </tr>\n",
       "    <tr>\n",
       "      <th>603999</th>\n",
       "      <td>6039</td>\n",
       "      <td>1933</td>\n",
       "      <td>neg</td>\n",
       "    </tr>\n",
       "  </tbody>\n",
       "</table>\n",
       "<p>803708 rows × 3 columns</p>\n",
       "</div>"
      ],
      "text/plain": [
       "         uid   sid type\n",
       "524288  1838  1828  pos\n",
       "1        251   746  pos\n",
       "524289   718   403  pos\n",
       "524291  1164   304  pos\n",
       "4        168   168  pos\n",
       "...      ...   ...  ...\n",
       "603995  6039  2188  neg\n",
       "603996  6039  1309  neg\n",
       "603997  6039  2891  neg\n",
       "603998  6039   533  neg\n",
       "603999  6039  1933  neg\n",
       "\n",
       "[803708 rows x 3 columns]"
      ]
     },
     "execution_count": 47,
     "metadata": {},
     "output_type": "execute_result"
    }
   ],
   "source": [
    "val_df_with_neg"
   ]
  },
  {
   "cell_type": "code",
   "execution_count": 48,
   "id": "7581bb99",
   "metadata": {},
   "outputs": [],
   "source": [
    "real_train_df = real_train_df.reset_index()[['uid', 'sid']]\n",
    "val_df = val_df.reset_index()[['uid', 'sid', 'type']]\n",
    "val_df_with_neg = val_df_with_neg.reset_index()[['uid', 'sid', 'type']]"
   ]
  },
  {
   "cell_type": "code",
   "execution_count": null,
   "id": "a8934837",
   "metadata": {},
   "outputs": [],
   "source": []
  },
  {
   "cell_type": "code",
   "execution_count": null,
   "id": "78af3b89",
   "metadata": {},
   "outputs": [],
   "source": []
  },
  {
   "cell_type": "markdown",
   "id": "d7185298",
   "metadata": {},
   "source": [
    "### Summarize"
   ]
  },
  {
   "cell_type": "code",
   "execution_count": 49,
   "id": "f003a575",
   "metadata": {},
   "outputs": [
    {
     "data": {
      "text/html": [
       "<div>\n",
       "<style scoped>\n",
       "    .dataframe tbody tr th:only-of-type {\n",
       "        vertical-align: middle;\n",
       "    }\n",
       "\n",
       "    .dataframe tbody tr th {\n",
       "        vertical-align: top;\n",
       "    }\n",
       "\n",
       "    .dataframe thead th {\n",
       "        text-align: right;\n",
       "    }\n",
       "</style>\n",
       "<table border=\"1\" class=\"dataframe\">\n",
       "  <thead>\n",
       "    <tr style=\"text-align: right;\">\n",
       "      <th></th>\n",
       "      <th>uid</th>\n",
       "      <th>sid</th>\n",
       "    </tr>\n",
       "  </thead>\n",
       "  <tbody>\n",
       "    <tr>\n",
       "      <th>0</th>\n",
       "      <td>0</td>\n",
       "      <td>0</td>\n",
       "    </tr>\n",
       "    <tr>\n",
       "      <th>1</th>\n",
       "      <td>0</td>\n",
       "      <td>1</td>\n",
       "    </tr>\n",
       "    <tr>\n",
       "      <th>2</th>\n",
       "      <td>0</td>\n",
       "      <td>2</td>\n",
       "    </tr>\n",
       "    <tr>\n",
       "      <th>3</th>\n",
       "      <td>0</td>\n",
       "      <td>3</td>\n",
       "    </tr>\n",
       "    <tr>\n",
       "      <th>4</th>\n",
       "      <td>0</td>\n",
       "      <td>4</td>\n",
       "    </tr>\n",
       "    <tr>\n",
       "      <th>...</th>\n",
       "      <td>...</td>\n",
       "      <td>...</td>\n",
       "    </tr>\n",
       "    <tr>\n",
       "      <th>998534</th>\n",
       "      <td>6039</td>\n",
       "      <td>743</td>\n",
       "    </tr>\n",
       "    <tr>\n",
       "      <th>998535</th>\n",
       "      <td>6039</td>\n",
       "      <td>757</td>\n",
       "    </tr>\n",
       "    <tr>\n",
       "      <th>998536</th>\n",
       "      <td>6039</td>\n",
       "      <td>1043</td>\n",
       "    </tr>\n",
       "    <tr>\n",
       "      <th>998537</th>\n",
       "      <td>6039</td>\n",
       "      <td>1816</td>\n",
       "    </tr>\n",
       "    <tr>\n",
       "      <th>998538</th>\n",
       "      <td>6039</td>\n",
       "      <td>3117</td>\n",
       "    </tr>\n",
       "  </tbody>\n",
       "</table>\n",
       "<p>998539 rows × 2 columns</p>\n",
       "</div>"
      ],
      "text/plain": [
       "         uid   sid\n",
       "0          0     0\n",
       "1          0     1\n",
       "2          0     2\n",
       "3          0     3\n",
       "4          0     4\n",
       "...      ...   ...\n",
       "998534  6039   743\n",
       "998535  6039   757\n",
       "998536  6039  1043\n",
       "998537  6039  1816\n",
       "998538  6039  3117\n",
       "\n",
       "[998539 rows x 2 columns]"
      ]
     },
     "execution_count": 49,
     "metadata": {},
     "output_type": "execute_result"
    }
   ],
   "source": [
    "total_data"
   ]
  },
  {
   "cell_type": "code",
   "execution_count": 50,
   "id": "03c38429",
   "metadata": {},
   "outputs": [
    {
     "data": {
      "text/html": [
       "<div>\n",
       "<style scoped>\n",
       "    .dataframe tbody tr th:only-of-type {\n",
       "        vertical-align: middle;\n",
       "    }\n",
       "\n",
       "    .dataframe tbody tr th {\n",
       "        vertical-align: top;\n",
       "    }\n",
       "\n",
       "    .dataframe thead th {\n",
       "        text-align: right;\n",
       "    }\n",
       "</style>\n",
       "<table border=\"1\" class=\"dataframe\">\n",
       "  <thead>\n",
       "    <tr style=\"text-align: right;\">\n",
       "      <th></th>\n",
       "      <th>uid</th>\n",
       "      <th>sid</th>\n",
       "    </tr>\n",
       "  </thead>\n",
       "  <tbody>\n",
       "    <tr>\n",
       "      <th>0</th>\n",
       "      <td>660</td>\n",
       "      <td>203</td>\n",
       "    </tr>\n",
       "    <tr>\n",
       "      <th>1</th>\n",
       "      <td>941</td>\n",
       "      <td>1038</td>\n",
       "    </tr>\n",
       "    <tr>\n",
       "      <th>2</th>\n",
       "      <td>451</td>\n",
       "      <td>281</td>\n",
       "    </tr>\n",
       "    <tr>\n",
       "      <th>3</th>\n",
       "      <td>4633</td>\n",
       "      <td>1113</td>\n",
       "    </tr>\n",
       "    <tr>\n",
       "      <th>4</th>\n",
       "      <td>926</td>\n",
       "      <td>581</td>\n",
       "    </tr>\n",
       "    <tr>\n",
       "      <th>...</th>\n",
       "      <td>...</td>\n",
       "      <td>...</td>\n",
       "    </tr>\n",
       "    <tr>\n",
       "      <th>599118</th>\n",
       "      <td>651</td>\n",
       "      <td>1335</td>\n",
       "    </tr>\n",
       "    <tr>\n",
       "      <th>599119</th>\n",
       "      <td>4381</td>\n",
       "      <td>294</td>\n",
       "    </tr>\n",
       "    <tr>\n",
       "      <th>599120</th>\n",
       "      <td>2544</td>\n",
       "      <td>145</td>\n",
       "    </tr>\n",
       "    <tr>\n",
       "      <th>599121</th>\n",
       "      <td>1290</td>\n",
       "      <td>377</td>\n",
       "    </tr>\n",
       "    <tr>\n",
       "      <th>599122</th>\n",
       "      <td>588</td>\n",
       "      <td>391</td>\n",
       "    </tr>\n",
       "  </tbody>\n",
       "</table>\n",
       "<p>599123 rows × 2 columns</p>\n",
       "</div>"
      ],
      "text/plain": [
       "         uid   sid\n",
       "0        660   203\n",
       "1        941  1038\n",
       "2        451   281\n",
       "3       4633  1113\n",
       "4        926   581\n",
       "...      ...   ...\n",
       "599118   651  1335\n",
       "599119  4381   294\n",
       "599120  2544   145\n",
       "599121  1290   377\n",
       "599122   588   391\n",
       "\n",
       "[599123 rows x 2 columns]"
      ]
     },
     "execution_count": 50,
     "metadata": {},
     "output_type": "execute_result"
    }
   ],
   "source": [
    "real_train_df"
   ]
  },
  {
   "cell_type": "code",
   "execution_count": 51,
   "id": "0b42074f",
   "metadata": {},
   "outputs": [
    {
     "data": {
      "text/html": [
       "<div>\n",
       "<style scoped>\n",
       "    .dataframe tbody tr th:only-of-type {\n",
       "        vertical-align: middle;\n",
       "    }\n",
       "\n",
       "    .dataframe tbody tr th {\n",
       "        vertical-align: top;\n",
       "    }\n",
       "\n",
       "    .dataframe thead th {\n",
       "        text-align: right;\n",
       "    }\n",
       "</style>\n",
       "<table border=\"1\" class=\"dataframe\">\n",
       "  <thead>\n",
       "    <tr style=\"text-align: right;\">\n",
       "      <th></th>\n",
       "      <th>uid</th>\n",
       "      <th>sid</th>\n",
       "      <th>type</th>\n",
       "    </tr>\n",
       "  </thead>\n",
       "  <tbody>\n",
       "    <tr>\n",
       "      <th>0</th>\n",
       "      <td>0</td>\n",
       "      <td>1402</td>\n",
       "      <td>neg</td>\n",
       "    </tr>\n",
       "    <tr>\n",
       "      <th>1</th>\n",
       "      <td>0</td>\n",
       "      <td>1639</td>\n",
       "      <td>neg</td>\n",
       "    </tr>\n",
       "    <tr>\n",
       "      <th>2</th>\n",
       "      <td>0</td>\n",
       "      <td>2270</td>\n",
       "      <td>neg</td>\n",
       "    </tr>\n",
       "    <tr>\n",
       "      <th>3</th>\n",
       "      <td>0</td>\n",
       "      <td>3006</td>\n",
       "      <td>neg</td>\n",
       "    </tr>\n",
       "    <tr>\n",
       "      <th>4</th>\n",
       "      <td>0</td>\n",
       "      <td>1948</td>\n",
       "      <td>neg</td>\n",
       "    </tr>\n",
       "    <tr>\n",
       "      <th>...</th>\n",
       "      <td>...</td>\n",
       "      <td>...</td>\n",
       "      <td>...</td>\n",
       "    </tr>\n",
       "    <tr>\n",
       "      <th>603995</th>\n",
       "      <td>6039</td>\n",
       "      <td>2188</td>\n",
       "      <td>neg</td>\n",
       "    </tr>\n",
       "    <tr>\n",
       "      <th>603996</th>\n",
       "      <td>6039</td>\n",
       "      <td>1309</td>\n",
       "      <td>neg</td>\n",
       "    </tr>\n",
       "    <tr>\n",
       "      <th>603997</th>\n",
       "      <td>6039</td>\n",
       "      <td>2891</td>\n",
       "      <td>neg</td>\n",
       "    </tr>\n",
       "    <tr>\n",
       "      <th>603998</th>\n",
       "      <td>6039</td>\n",
       "      <td>533</td>\n",
       "      <td>neg</td>\n",
       "    </tr>\n",
       "    <tr>\n",
       "      <th>603999</th>\n",
       "      <td>6039</td>\n",
       "      <td>1933</td>\n",
       "      <td>neg</td>\n",
       "    </tr>\n",
       "  </tbody>\n",
       "</table>\n",
       "<p>604000 rows × 3 columns</p>\n",
       "</div>"
      ],
      "text/plain": [
       "         uid   sid type\n",
       "0          0  1402  neg\n",
       "1          0  1639  neg\n",
       "2          0  2270  neg\n",
       "3          0  3006  neg\n",
       "4          0  1948  neg\n",
       "...      ...   ...  ...\n",
       "603995  6039  2188  neg\n",
       "603996  6039  1309  neg\n",
       "603997  6039  2891  neg\n",
       "603998  6039   533  neg\n",
       "603999  6039  1933  neg\n",
       "\n",
       "[604000 rows x 3 columns]"
      ]
     },
     "execution_count": 51,
     "metadata": {},
     "output_type": "execute_result"
    }
   ],
   "source": [
    "neg_sample_df"
   ]
  },
  {
   "cell_type": "code",
   "execution_count": 52,
   "id": "a78e441f",
   "metadata": {},
   "outputs": [
    {
     "data": {
      "text/html": [
       "<div>\n",
       "<style scoped>\n",
       "    .dataframe tbody tr th:only-of-type {\n",
       "        vertical-align: middle;\n",
       "    }\n",
       "\n",
       "    .dataframe tbody tr th {\n",
       "        vertical-align: top;\n",
       "    }\n",
       "\n",
       "    .dataframe thead th {\n",
       "        text-align: right;\n",
       "    }\n",
       "</style>\n",
       "<table border=\"1\" class=\"dataframe\">\n",
       "  <thead>\n",
       "    <tr style=\"text-align: right;\">\n",
       "      <th></th>\n",
       "      <th>uid</th>\n",
       "      <th>sid</th>\n",
       "      <th>type</th>\n",
       "    </tr>\n",
       "  </thead>\n",
       "  <tbody>\n",
       "    <tr>\n",
       "      <th>0</th>\n",
       "      <td>1838</td>\n",
       "      <td>1828</td>\n",
       "      <td>pos</td>\n",
       "    </tr>\n",
       "    <tr>\n",
       "      <th>1</th>\n",
       "      <td>251</td>\n",
       "      <td>746</td>\n",
       "      <td>pos</td>\n",
       "    </tr>\n",
       "    <tr>\n",
       "      <th>2</th>\n",
       "      <td>718</td>\n",
       "      <td>403</td>\n",
       "      <td>pos</td>\n",
       "    </tr>\n",
       "    <tr>\n",
       "      <th>3</th>\n",
       "      <td>1164</td>\n",
       "      <td>304</td>\n",
       "      <td>pos</td>\n",
       "    </tr>\n",
       "    <tr>\n",
       "      <th>4</th>\n",
       "      <td>168</td>\n",
       "      <td>168</td>\n",
       "      <td>pos</td>\n",
       "    </tr>\n",
       "    <tr>\n",
       "      <th>...</th>\n",
       "      <td>...</td>\n",
       "      <td>...</td>\n",
       "      <td>...</td>\n",
       "    </tr>\n",
       "    <tr>\n",
       "      <th>199703</th>\n",
       "      <td>53</td>\n",
       "      <td>796</td>\n",
       "      <td>pos</td>\n",
       "    </tr>\n",
       "    <tr>\n",
       "      <th>199704</th>\n",
       "      <td>2367</td>\n",
       "      <td>1258</td>\n",
       "      <td>pos</td>\n",
       "    </tr>\n",
       "    <tr>\n",
       "      <th>199705</th>\n",
       "      <td>5461</td>\n",
       "      <td>532</td>\n",
       "      <td>pos</td>\n",
       "    </tr>\n",
       "    <tr>\n",
       "      <th>199706</th>\n",
       "      <td>447</td>\n",
       "      <td>85</td>\n",
       "      <td>pos</td>\n",
       "    </tr>\n",
       "    <tr>\n",
       "      <th>199707</th>\n",
       "      <td>171</td>\n",
       "      <td>363</td>\n",
       "      <td>pos</td>\n",
       "    </tr>\n",
       "  </tbody>\n",
       "</table>\n",
       "<p>199708 rows × 3 columns</p>\n",
       "</div>"
      ],
      "text/plain": [
       "         uid   sid type\n",
       "0       1838  1828  pos\n",
       "1        251   746  pos\n",
       "2        718   403  pos\n",
       "3       1164   304  pos\n",
       "4        168   168  pos\n",
       "...      ...   ...  ...\n",
       "199703    53   796  pos\n",
       "199704  2367  1258  pos\n",
       "199705  5461   532  pos\n",
       "199706   447    85  pos\n",
       "199707   171   363  pos\n",
       "\n",
       "[199708 rows x 3 columns]"
      ]
     },
     "execution_count": 52,
     "metadata": {},
     "output_type": "execute_result"
    }
   ],
   "source": [
    "val_df"
   ]
  },
  {
   "cell_type": "code",
   "execution_count": 54,
   "id": "e7beda9a",
   "metadata": {},
   "outputs": [
    {
     "data": {
      "text/html": [
       "<div>\n",
       "<style scoped>\n",
       "    .dataframe tbody tr th:only-of-type {\n",
       "        vertical-align: middle;\n",
       "    }\n",
       "\n",
       "    .dataframe tbody tr th {\n",
       "        vertical-align: top;\n",
       "    }\n",
       "\n",
       "    .dataframe thead th {\n",
       "        text-align: right;\n",
       "    }\n",
       "</style>\n",
       "<table border=\"1\" class=\"dataframe\">\n",
       "  <thead>\n",
       "    <tr style=\"text-align: right;\">\n",
       "      <th></th>\n",
       "      <th>uid</th>\n",
       "      <th>sid</th>\n",
       "      <th>type</th>\n",
       "    </tr>\n",
       "  </thead>\n",
       "  <tbody>\n",
       "    <tr>\n",
       "      <th>0</th>\n",
       "      <td>1838</td>\n",
       "      <td>1828</td>\n",
       "      <td>pos</td>\n",
       "    </tr>\n",
       "    <tr>\n",
       "      <th>1</th>\n",
       "      <td>251</td>\n",
       "      <td>746</td>\n",
       "      <td>pos</td>\n",
       "    </tr>\n",
       "    <tr>\n",
       "      <th>2</th>\n",
       "      <td>718</td>\n",
       "      <td>403</td>\n",
       "      <td>pos</td>\n",
       "    </tr>\n",
       "    <tr>\n",
       "      <th>3</th>\n",
       "      <td>1164</td>\n",
       "      <td>304</td>\n",
       "      <td>pos</td>\n",
       "    </tr>\n",
       "    <tr>\n",
       "      <th>4</th>\n",
       "      <td>168</td>\n",
       "      <td>168</td>\n",
       "      <td>pos</td>\n",
       "    </tr>\n",
       "    <tr>\n",
       "      <th>...</th>\n",
       "      <td>...</td>\n",
       "      <td>...</td>\n",
       "      <td>...</td>\n",
       "    </tr>\n",
       "    <tr>\n",
       "      <th>803703</th>\n",
       "      <td>6039</td>\n",
       "      <td>2188</td>\n",
       "      <td>neg</td>\n",
       "    </tr>\n",
       "    <tr>\n",
       "      <th>803704</th>\n",
       "      <td>6039</td>\n",
       "      <td>1309</td>\n",
       "      <td>neg</td>\n",
       "    </tr>\n",
       "    <tr>\n",
       "      <th>803705</th>\n",
       "      <td>6039</td>\n",
       "      <td>2891</td>\n",
       "      <td>neg</td>\n",
       "    </tr>\n",
       "    <tr>\n",
       "      <th>803706</th>\n",
       "      <td>6039</td>\n",
       "      <td>533</td>\n",
       "      <td>neg</td>\n",
       "    </tr>\n",
       "    <tr>\n",
       "      <th>803707</th>\n",
       "      <td>6039</td>\n",
       "      <td>1933</td>\n",
       "      <td>neg</td>\n",
       "    </tr>\n",
       "  </tbody>\n",
       "</table>\n",
       "<p>803708 rows × 3 columns</p>\n",
       "</div>"
      ],
      "text/plain": [
       "         uid   sid type\n",
       "0       1838  1828  pos\n",
       "1        251   746  pos\n",
       "2        718   403  pos\n",
       "3       1164   304  pos\n",
       "4        168   168  pos\n",
       "...      ...   ...  ...\n",
       "803703  6039  2188  neg\n",
       "803704  6039  1309  neg\n",
       "803705  6039  2891  neg\n",
       "803706  6039   533  neg\n",
       "803707  6039  1933  neg\n",
       "\n",
       "[803708 rows x 3 columns]"
      ]
     },
     "execution_count": 54,
     "metadata": {},
     "output_type": "execute_result"
    }
   ],
   "source": [
    "val_df_with_neg"
   ]
  },
  {
   "cell_type": "code",
   "execution_count": null,
   "id": "1138b8b7",
   "metadata": {},
   "outputs": [],
   "source": []
  },
  {
   "cell_type": "code",
   "execution_count": 55,
   "id": "8403ae63",
   "metadata": {},
   "outputs": [
    {
     "data": {
      "text/plain": [
       "pos    199708\n",
       "Name: type, dtype: int64"
      ]
     },
     "execution_count": 55,
     "metadata": {},
     "output_type": "execute_result"
    }
   ],
   "source": [
    "val_df.type.value_counts()"
   ]
  },
  {
   "cell_type": "code",
   "execution_count": 56,
   "id": "3e3d7206",
   "metadata": {},
   "outputs": [
    {
     "data": {
      "text/plain": [
       "neg    604000\n",
       "pos    199708\n",
       "Name: type, dtype: int64"
      ]
     },
     "execution_count": 56,
     "metadata": {},
     "output_type": "execute_result"
    }
   ],
   "source": [
    "val_df_with_neg.type.value_counts()"
   ]
  },
  {
   "cell_type": "code",
   "execution_count": null,
   "id": "4fef2b17",
   "metadata": {},
   "outputs": [],
   "source": []
  },
  {
   "cell_type": "code",
   "execution_count": 57,
   "id": "3da86dcc",
   "metadata": {},
   "outputs": [],
   "source": [
    "test_df = test_df[['uid', 'sid', 'type']]"
   ]
  },
  {
   "cell_type": "code",
   "execution_count": 58,
   "id": "2376bf57",
   "metadata": {},
   "outputs": [],
   "source": [
    "test_df_with_neg = test_df_with_neg[['uid', 'sid', 'type']]"
   ]
  },
  {
   "cell_type": "code",
   "execution_count": 59,
   "id": "f86ea3cb",
   "metadata": {},
   "outputs": [
    {
     "data": {
      "text/plain": [
       "pos    199708\n",
       "Name: type, dtype: int64"
      ]
     },
     "execution_count": 59,
     "metadata": {},
     "output_type": "execute_result"
    }
   ],
   "source": [
    "test_df.type.value_counts()"
   ]
  },
  {
   "cell_type": "code",
   "execution_count": 60,
   "id": "4068101a",
   "metadata": {},
   "outputs": [
    {
     "data": {
      "text/plain": [
       "neg    604000\n",
       "pos    199708\n",
       "Name: type, dtype: int64"
      ]
     },
     "execution_count": 60,
     "metadata": {},
     "output_type": "execute_result"
    }
   ],
   "source": [
    "test_df_with_neg.type.value_counts()"
   ]
  },
  {
   "cell_type": "code",
   "execution_count": null,
   "id": "fac2543c",
   "metadata": {},
   "outputs": [],
   "source": []
  },
  {
   "cell_type": "code",
   "execution_count": 61,
   "id": "24ea01f6",
   "metadata": {},
   "outputs": [
    {
     "data": {
      "text/plain": [
       "True"
      ]
     },
     "execution_count": 61,
     "metadata": {},
     "output_type": "execute_result"
    }
   ],
   "source": [
    "total_data.shape[0] == real_train_df.shape[0] + val_df.shape[0] + test_df.shape[0]"
   ]
  },
  {
   "cell_type": "code",
   "execution_count": 62,
   "id": "e2231d74",
   "metadata": {},
   "outputs": [
    {
     "data": {
      "text/plain": [
       "True"
      ]
     },
     "execution_count": 62,
     "metadata": {},
     "output_type": "execute_result"
    }
   ],
   "source": [
    "val_df_with_neg.shape[0] == val_df.shape[0] + neg_sample_df.shape[0]"
   ]
  },
  {
   "cell_type": "code",
   "execution_count": 63,
   "id": "02e4a7d1",
   "metadata": {},
   "outputs": [
    {
     "data": {
      "text/plain": [
       "True"
      ]
     },
     "execution_count": 63,
     "metadata": {},
     "output_type": "execute_result"
    }
   ],
   "source": [
    "test_df_with_neg.shape[0] == test_df.shape[0] + neg_sample_df.shape[0]"
   ]
  },
  {
   "cell_type": "code",
   "execution_count": null,
   "id": "9dd0814c",
   "metadata": {},
   "outputs": [],
   "source": []
  },
  {
   "cell_type": "code",
   "execution_count": null,
   "id": "32a629ee",
   "metadata": {},
   "outputs": [],
   "source": []
  },
  {
   "cell_type": "code",
   "execution_count": 64,
   "id": "644a3e7d",
   "metadata": {},
   "outputs": [],
   "source": [
    "total_data.to_csv('total_df', index = False)\n",
    "real_train_df.to_csv('train_df', index = False)\n",
    "neg_sample_df.to_csv('neg_sample_df', index = False)\n",
    "\n",
    "val_df.to_csv('val_df', index = False)\n",
    "val_df_with_neg.to_csv('val_df_with_neg', index = False)\n",
    "\n",
    "test_df.to_csv('test_df', index = False)\n",
    "test_df_with_neg.to_csv('test_df_with_neg', index = False)"
   ]
  },
  {
   "cell_type": "code",
   "execution_count": null,
   "id": "0dd97470",
   "metadata": {},
   "outputs": [],
   "source": []
  },
  {
   "cell_type": "code",
   "execution_count": 65,
   "id": "214435af",
   "metadata": {},
   "outputs": [],
   "source": [
    "uid_pop_total = total_data.uid.value_counts().reset_index()\n",
    "uid_pop_total.columns = ['uid', 'total_counts']\n",
    "\n",
    "sid_pop_total = total_data.sid.value_counts().reset_index()\n",
    "sid_pop_total.columns = ['sid', 'total_counts']"
   ]
  },
  {
   "cell_type": "code",
   "execution_count": 66,
   "id": "15a4ab26",
   "metadata": {},
   "outputs": [],
   "source": [
    "uid_pop_train = train_df.uid.value_counts().reset_index()\n",
    "uid_pop_train.columns = ['uid', 'train_counts']\n",
    "\n",
    "sid_pop_train = train_df.sid.value_counts().reset_index()\n",
    "sid_pop_train.columns = ['sid', 'train_counts']"
   ]
  },
  {
   "cell_type": "code",
   "execution_count": null,
   "id": "634dc00f",
   "metadata": {},
   "outputs": [],
   "source": []
  },
  {
   "cell_type": "code",
   "execution_count": 67,
   "id": "744e6b69",
   "metadata": {},
   "outputs": [],
   "source": [
    "uid_pop_total.to_csv('uid_pop_total', index = False)\n",
    "sid_pop_total.to_csv('sid_pop_total', index = False)\n",
    "\n",
    "uid_pop_train.to_csv('uid_pop_train', index = False)\n",
    "sid_pop_train.to_csv('sid_pop_train', index = False)"
   ]
  },
  {
   "cell_type": "code",
   "execution_count": null,
   "id": "b8014d95",
   "metadata": {},
   "outputs": [],
   "source": []
  },
  {
   "cell_type": "code",
   "execution_count": null,
   "id": "cd50195b",
   "metadata": {},
   "outputs": [],
   "source": []
  },
  {
   "cell_type": "code",
   "execution_count": null,
   "id": "2ea80755",
   "metadata": {},
   "outputs": [],
   "source": []
  }
 ],
 "metadata": {
  "kernelspec": {
   "display_name": "repeat",
   "language": "python",
   "name": "repeat"
  },
  "language_info": {
   "codemirror_mode": {
    "name": "ipython",
    "version": 3
   },
   "file_extension": ".py",
   "mimetype": "text/x-python",
   "name": "python",
   "nbconvert_exporter": "python",
   "pygments_lexer": "ipython3",
   "version": "3.8.2"
  }
 },
 "nbformat": 4,
 "nbformat_minor": 5
}
