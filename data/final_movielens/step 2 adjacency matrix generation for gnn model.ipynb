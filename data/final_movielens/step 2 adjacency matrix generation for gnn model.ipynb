{
 "cells": [
  {
   "cell_type": "code",
   "execution_count": 1,
   "id": "1593bc7f",
   "metadata": {},
   "outputs": [],
   "source": [
    "\n",
    "import numpy as np\n",
    "import random as rd\n",
    "import scipy.sparse as sp\n",
    "from time import time\n"
   ]
  },
  {
   "cell_type": "code",
   "execution_count": 2,
   "id": "4041c6aa",
   "metadata": {},
   "outputs": [],
   "source": [
    "import numpy as np \n",
    "import pandas as pd \n",
    "import scipy.sparse as sp\n",
    "\n",
    "import torch.utils.data as data\n",
    "\n",
    "# import config"
   ]
  },
  {
   "cell_type": "code",
   "execution_count": null,
   "id": "7fa86cef",
   "metadata": {},
   "outputs": [],
   "source": []
  },
  {
   "cell_type": "code",
   "execution_count": 3,
   "id": "343acdc9",
   "metadata": {},
   "outputs": [],
   "source": [
    "def load_all_custom(test_num=100):\n",
    "\t\"\"\" We load all the three file here to save time in each epoch. \"\"\"\n",
    "    \n",
    "\t'''train_data = pd.read_csv(\n",
    "\t\t'./data/train_df', header=None, names=['user', 'item'], \n",
    "\t\tusecols=[0, 1], dtype={0: np.int32, 1: np.int32}) '''\n",
    "\t#train_data = pd.read_csv('../data/train_df')    \n",
    "\ttrain_data = pd.read_csv('./train_df')\n",
    "\ttrain_data = train_data[['uid', 'sid']]\n",
    "\ttrain_data['uid'] = train_data['uid'].apply(lambda x : int(x))\n",
    "\ttrain_data['sid'] = train_data['sid'].apply(lambda x : int(x))    \n",
    "\ttrain_data.columns = ['user', 'item']\n",
    "    \n",
    "\tuser_num = train_data['user'].max() + 1\n",
    "\titem_num = train_data['item'].max() + 1\n",
    "\n",
    "\ttrain_data = train_data.values.tolist()\n",
    "\n",
    "\t# load ratings as a dok matrix\n",
    "\ttrain_mat = sp.dok_matrix((user_num, item_num), dtype=np.float32)\n",
    "\tfor x in train_data:\n",
    "\t\ttrain_mat[x[0], x[1]] = 1.0\n",
    "        \n",
    "\treturn train_mat"
   ]
  },
  {
   "cell_type": "code",
   "execution_count": 4,
   "id": "98c65a54",
   "metadata": {},
   "outputs": [],
   "source": [
    "R = load_all_custom()"
   ]
  },
  {
   "cell_type": "code",
   "execution_count": 5,
   "id": "361cb1c0",
   "metadata": {},
   "outputs": [
    {
     "data": {
      "text/plain": [
       "<6040x3260 sparse matrix of type '<class 'numpy.float32'>'\n",
       "\twith 599123 stored elements in Dictionary Of Keys format>"
      ]
     },
     "execution_count": 5,
     "metadata": {},
     "output_type": "execute_result"
    }
   ],
   "source": [
    "R"
   ]
  },
  {
   "cell_type": "code",
   "execution_count": 16,
   "id": "89d2f92f",
   "metadata": {},
   "outputs": [
    {
     "data": {
      "text/plain": [
       "<6040x3260 sparse matrix of type '<class 'numpy.float32'>'\n",
       "\twith 599123 stored elements in Dictionary Of Keys format>"
      ]
     },
     "execution_count": 16,
     "metadata": {},
     "output_type": "execute_result"
    }
   ],
   "source": [
    "R"
   ]
  },
  {
   "cell_type": "code",
   "execution_count": null,
   "id": "5c480060",
   "metadata": {},
   "outputs": [],
   "source": []
  },
  {
   "cell_type": "code",
   "execution_count": null,
   "id": "4d35d15f",
   "metadata": {},
   "outputs": [],
   "source": []
  },
  {
   "cell_type": "code",
   "execution_count": null,
   "id": "83ec735e",
   "metadata": {},
   "outputs": [],
   "source": []
  },
  {
   "cell_type": "code",
   "execution_count": 6,
   "id": "3159006d",
   "metadata": {},
   "outputs": [],
   "source": [
    "    def create_adj_mat(user_num, item_num, R):\n",
    "        from time import time\n",
    "        t1 = time()\n",
    "        adj_mat = sp.dok_matrix((user_num + item_num, user_num + item_num), dtype=np.float32)\n",
    "        adj_mat = adj_mat.tolil()\n",
    "        R = R.tolil()\n",
    "\n",
    "        adj_mat[:user_num, user_num:] = R\n",
    "        adj_mat[user_num:, :user_num] = R.T\n",
    "        adj_mat = adj_mat.todok()\n",
    "        print('already create adjacency matrix', adj_mat.shape, time() - t1)\n",
    "\n",
    "        t2 = time()\n",
    "\n",
    "        def mean_adj_single(adj):\n",
    "            # D^-1 * A\n",
    "            rowsum = np.array(adj.sum(1))\n",
    "\n",
    "            d_inv = np.power(rowsum, -1).flatten()\n",
    "            d_inv[np.isinf(d_inv)] = 0.\n",
    "            d_mat_inv = sp.diags(d_inv)\n",
    "\n",
    "            norm_adj = d_mat_inv.dot(adj)\n",
    "            # norm_adj = adj.dot(d_mat_inv)\n",
    "            print('generate single-normalized adjacency matrix.')\n",
    "            return norm_adj.tocoo()\n",
    "\n",
    "        def normalized_adj_single(adj):\n",
    "            # D^-1/2 * A * D^-1/2\n",
    "            rowsum = np.array(adj.sum(1))\n",
    "\n",
    "            d_inv_sqrt = np.power(rowsum, -0.5).flatten()\n",
    "            d_inv_sqrt[np.isinf(d_inv_sqrt)] = 0.\n",
    "            d_mat_inv_sqrt = sp.diags(d_inv_sqrt)\n",
    "\n",
    "            # bi_lap = adj.dot(d_mat_inv_sqrt).transpose().dot(d_mat_inv_sqrt)\n",
    "            bi_lap = d_mat_inv_sqrt.dot(adj).dot(d_mat_inv_sqrt)\n",
    "            return bi_lap.tocoo()\n",
    "\n",
    "        def check_adj_if_equal(adj):\n",
    "            dense_A = np.array(adj.todense())\n",
    "            degree = np.sum(dense_A, axis=1, keepdims=False)\n",
    "\n",
    "            temp = np.dot(np.diag(np.power(degree, -1)), dense_A)\n",
    "            print('check normalized adjacency matrix whether equal to this laplacian matrix.')\n",
    "            return temp\n",
    "\n",
    "        norm_adj_mat = mean_adj_single(adj_mat + sp.eye(adj_mat.shape[0]))\n",
    "        # norm_adj_mat = normalized_adj_single(adj_mat + sp.eye(adj_mat.shape[0]))\n",
    "        mean_adj_mat = mean_adj_single(adj_mat)\n",
    "\n",
    "        print('already normalize adjacency matrix', time() - t2)\n",
    "        return adj_mat.tocsr(), norm_adj_mat.tocsr(), mean_adj_mat.tocsr()"
   ]
  },
  {
   "cell_type": "code",
   "execution_count": null,
   "id": "445b1035",
   "metadata": {},
   "outputs": [],
   "source": []
  },
  {
   "cell_type": "code",
   "execution_count": 7,
   "id": "db74c47f",
   "metadata": {},
   "outputs": [],
   "source": [
    "train_df = pd.read_csv('./train_df')"
   ]
  },
  {
   "cell_type": "code",
   "execution_count": 8,
   "id": "41d3b5e6",
   "metadata": {},
   "outputs": [],
   "source": [
    "total_df = pd.read_csv('./total_df')"
   ]
  },
  {
   "cell_type": "code",
   "execution_count": 9,
   "id": "bd435697",
   "metadata": {},
   "outputs": [],
   "source": [
    "u_num = len(total_df.uid.unique())\n",
    "s_num = len(total_df.sid.unique())"
   ]
  },
  {
   "cell_type": "code",
   "execution_count": 10,
   "id": "2d6aabd2",
   "metadata": {},
   "outputs": [
    {
     "name": "stdout",
     "output_type": "stream",
     "text": [
      "6040\n",
      "3260\n"
     ]
    }
   ],
   "source": [
    "print(u_num)\n",
    "print(s_num)"
   ]
  },
  {
   "cell_type": "code",
   "execution_count": null,
   "id": "3e5714b8",
   "metadata": {},
   "outputs": [],
   "source": []
  },
  {
   "cell_type": "code",
   "execution_count": 11,
   "id": "f0bbf107",
   "metadata": {},
   "outputs": [
    {
     "name": "stdout",
     "output_type": "stream",
     "text": [
      "already create adjacency matrix (9300, 9300) 2.440239191055298\n",
      "generate single-normalized adjacency matrix.\n",
      "generate single-normalized adjacency matrix.\n",
      "already normalize adjacency matrix 0.8638041019439697\n"
     ]
    }
   ],
   "source": [
    "adj_mat, norm_adj_mat, mean_adj_mat = create_adj_mat(u_num, s_num, R)"
   ]
  },
  {
   "cell_type": "code",
   "execution_count": 12,
   "id": "52c9a111",
   "metadata": {},
   "outputs": [],
   "source": [
    "sp.save_npz('s_adj_mat.npz', adj_mat)\n",
    "sp.save_npz('s_norm_adj_mat.npz', norm_adj_mat)\n",
    "sp.save_npz('s_mean_adj_mat.npz', mean_adj_mat)\n"
   ]
  },
  {
   "cell_type": "code",
   "execution_count": null,
   "id": "1af8d3fd",
   "metadata": {},
   "outputs": [],
   "source": []
  },
  {
   "cell_type": "code",
   "execution_count": null,
   "id": "4f12723b",
   "metadata": {},
   "outputs": [],
   "source": []
  },
  {
   "cell_type": "code",
   "execution_count": null,
   "id": "8c2a6762",
   "metadata": {},
   "outputs": [],
   "source": []
  },
  {
   "cell_type": "code",
   "execution_count": null,
   "id": "10f7548b",
   "metadata": {},
   "outputs": [],
   "source": []
  }
 ],
 "metadata": {
  "kernelspec": {
   "display_name": "repeat",
   "language": "python",
   "name": "repeat"
  },
  "language_info": {
   "codemirror_mode": {
    "name": "ipython",
    "version": 3
   },
   "file_extension": ".py",
   "mimetype": "text/x-python",
   "name": "python",
   "nbconvert_exporter": "python",
   "pygments_lexer": "ipython3",
   "version": "3.8.2"
  }
 },
 "nbformat": 4,
 "nbformat_minor": 5
}
