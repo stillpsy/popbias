{
 "cells": [
  {
   "cell_type": "code",
   "execution_count": 44,
   "id": "09c48fe8",
   "metadata": {},
   "outputs": [],
   "source": [
    "import numpy as np\n",
    "import seaborn as sns\n",
    "import matplotlib.pyplot as plt\n",
    "\n",
    "import pandas as pd"
   ]
  },
  {
   "cell_type": "code",
   "execution_count": 45,
   "id": "65127fe3",
   "metadata": {},
   "outputs": [
    {
     "name": "stdout",
     "output_type": "stream",
     "text": [
      "Sun Apr 24 14:25:50 2022       \n",
      "+-----------------------------------------------------------------------------+\n",
      "| NVIDIA-SMI 510.47.03    Driver Version: 510.47.03    CUDA Version: 11.6     |\n",
      "|-------------------------------+----------------------+----------------------+\n",
      "| GPU  Name        Persistence-M| Bus-Id        Disp.A | Volatile Uncorr. ECC |\n",
      "| Fan  Temp  Perf  Pwr:Usage/Cap|         Memory-Usage | GPU-Util  Compute M. |\n",
      "|                               |                      |               MIG M. |\n",
      "|===============================+======================+======================|\n",
      "|   0  NVIDIA GeForce ...  On   | 00000000:05:00.0 Off |                  N/A |\n",
      "| 61%   68C    P2   116W / 320W |   4528MiB / 10240MiB |     15%      Default |\n",
      "|                               |                      |                  N/A |\n",
      "+-------------------------------+----------------------+----------------------+\n",
      "|   1  NVIDIA TITAN RTX    On   | 00000000:09:00.0 Off |                  N/A |\n",
      "| 55%   74C    P2   133W / 280W |   4333MiB / 24576MiB |     55%      Default |\n",
      "|                               |                      |                  N/A |\n",
      "+-------------------------------+----------------------+----------------------+\n",
      "                                                                               \n",
      "+-----------------------------------------------------------------------------+\n",
      "| Processes:                                                                  |\n",
      "|  GPU   GI   CI        PID   Type   Process name                  GPU Memory |\n",
      "|        ID   ID                                                   Usage      |\n",
      "|=============================================================================|\n",
      "|    0   N/A  N/A      9196      C   ...a3/envs/repeat/bin/python     1035MiB |\n",
      "|    0   N/A  N/A     10238      C   python                           2185MiB |\n",
      "|    0   N/A  N/A     19148      C   ...a3/envs/repeat/bin/python     1305MiB |\n",
      "|    1   N/A  N/A       550      C   python                           1885MiB |\n",
      "|    1   N/A  N/A      4838      C   python                           2445MiB |\n",
      "+-----------------------------------------------------------------------------+\n"
     ]
    }
   ],
   "source": [
    "!nvidia-smi"
   ]
  },
  {
   "cell_type": "code",
   "execution_count": 62,
   "id": "2b2341db",
   "metadata": {},
   "outputs": [],
   "source": [
    "user_item_mtx = np.zeros((200, 200))"
   ]
  },
  {
   "cell_type": "code",
   "execution_count": 4,
   "id": "34d96cc5",
   "metadata": {},
   "outputs": [],
   "source": [
    "# 복잡하니까 장르는 일단 1가지로 통일."
   ]
  },
  {
   "cell_type": "code",
   "execution_count": 63,
   "id": "ce90692e",
   "metadata": {},
   "outputs": [],
   "source": [
    "import random"
   ]
  },
  {
   "cell_type": "code",
   "execution_count": 64,
   "id": "05f6f5c3",
   "metadata": {},
   "outputs": [
    {
     "name": "stdout",
     "output_type": "stream",
     "text": [
      "0\n",
      "1\n",
      "2\n",
      "3\n",
      "4\n",
      "5\n",
      "6\n",
      "7\n",
      "8\n",
      "9\n",
      "10\n",
      "11\n",
      "12\n",
      "13\n",
      "14\n",
      "15\n",
      "16\n",
      "17\n",
      "18\n",
      "19\n",
      "20\n",
      "21\n",
      "22\n",
      "23\n",
      "24\n",
      "25\n",
      "26\n",
      "27\n",
      "28\n",
      "29\n",
      "30\n",
      "31\n",
      "32\n",
      "33\n",
      "34\n",
      "35\n",
      "36\n",
      "37\n",
      "38\n",
      "39\n",
      "40\n",
      "41\n",
      "42\n",
      "43\n",
      "44\n",
      "45\n",
      "46\n",
      "47\n",
      "48\n",
      "49\n",
      "50\n",
      "51\n",
      "52\n",
      "53\n",
      "54\n",
      "55\n",
      "56\n",
      "57\n",
      "58\n",
      "59\n",
      "60\n",
      "61\n",
      "62\n",
      "63\n",
      "64\n",
      "65\n",
      "66\n",
      "67\n",
      "68\n",
      "69\n",
      "70\n",
      "71\n",
      "72\n",
      "73\n",
      "74\n",
      "75\n",
      "76\n",
      "77\n",
      "78\n",
      "79\n",
      "80\n",
      "81\n",
      "82\n",
      "83\n",
      "84\n",
      "85\n",
      "86\n",
      "87\n",
      "88\n",
      "89\n",
      "90\n",
      "91\n",
      "92\n",
      "93\n",
      "94\n",
      "95\n",
      "96\n",
      "97\n",
      "98\n",
      "99\n",
      "100\n",
      "101\n",
      "102\n",
      "103\n",
      "104\n",
      "105\n",
      "106\n",
      "107\n",
      "108\n",
      "109\n",
      "110\n",
      "111\n",
      "112\n",
      "113\n",
      "114\n",
      "115\n",
      "116\n",
      "117\n",
      "118\n",
      "119\n",
      "120\n",
      "121\n",
      "122\n",
      "123\n",
      "124\n",
      "125\n",
      "126\n",
      "127\n",
      "128\n",
      "129\n",
      "130\n",
      "131\n",
      "132\n",
      "133\n",
      "134\n",
      "135\n",
      "136\n",
      "137\n",
      "138\n",
      "139\n",
      "140\n",
      "141\n",
      "142\n",
      "143\n",
      "144\n",
      "145\n",
      "146\n",
      "147\n",
      "148\n",
      "149\n",
      "150\n",
      "151\n",
      "152\n",
      "153\n",
      "154\n",
      "155\n",
      "156\n",
      "157\n",
      "158\n",
      "159\n",
      "160\n",
      "161\n",
      "162\n",
      "163\n",
      "164\n",
      "165\n",
      "166\n",
      "167\n",
      "168\n",
      "169\n",
      "170\n",
      "171\n",
      "172\n",
      "173\n",
      "174\n",
      "175\n",
      "176\n",
      "177\n",
      "178\n",
      "179\n",
      "180\n",
      "181\n",
      "182\n",
      "183\n",
      "184\n",
      "185\n",
      "186\n",
      "187\n",
      "188\n",
      "189\n",
      "190\n",
      "191\n",
      "192\n",
      "193\n",
      "194\n",
      "195\n",
      "196\n",
      "197\n",
      "198\n",
      "199\n"
     ]
    }
   ],
   "source": [
    "random.seed(1)\n",
    "for i in range(200):\n",
    "    print(i)\n",
    "    for j in range(200):\n",
    "        if (i < j):\n",
    "            #user_item_mtx[i,1000-j-1] = np.random.binomial(1, 0.95, 1)[0]\n",
    "            user_item_mtx[i,200-j-1] = 1            \n",
    "        if (i > j):\n",
    "            #user_item_mtx[i,1000-j-1] = np.random.binomial(1, 0.05, 1)[0]\n",
    "            user_item_mtx[i,200-j-1] = 0"
   ]
  },
  {
   "cell_type": "code",
   "execution_count": 12,
   "id": "fee663f6",
   "metadata": {},
   "outputs": [],
   "source": [
    "#user_item_mtx[1, 200 - 1] = 1\n",
    "#user_item_mtx[200-1, 0] = 1"
   ]
  },
  {
   "cell_type": "code",
   "execution_count": 65,
   "id": "8862ce15",
   "metadata": {},
   "outputs": [
    {
     "data": {
      "text/plain": [
       "array([[1., 1., 1., ..., 1., 1., 0.],\n",
       "       [1., 1., 1., ..., 1., 0., 0.],\n",
       "       [1., 1., 1., ..., 0., 0., 0.],\n",
       "       ...,\n",
       "       [1., 1., 0., ..., 0., 0., 0.],\n",
       "       [1., 0., 0., ..., 0., 0., 0.],\n",
       "       [0., 0., 0., ..., 0., 0., 0.]])"
      ]
     },
     "execution_count": 65,
     "metadata": {},
     "output_type": "execute_result"
    }
   ],
   "source": [
    "user_item_mtx"
   ]
  },
  {
   "cell_type": "code",
   "execution_count": 66,
   "id": "57d97c7e",
   "metadata": {},
   "outputs": [],
   "source": [
    "user_item_mtx2 = np.ones((200, 200)) \n",
    "user_item_mtx2[:, 199] = 0"
   ]
  },
  {
   "cell_type": "code",
   "execution_count": null,
   "id": "f83c70e0",
   "metadata": {},
   "outputs": [],
   "source": []
  },
  {
   "cell_type": "code",
   "execution_count": 67,
   "id": "cd7a2dee",
   "metadata": {},
   "outputs": [
    {
     "data": {
      "text/plain": [
       "array([[1., 1., 1., ..., 1., 1., 0.],\n",
       "       [1., 1., 1., ..., 1., 1., 0.],\n",
       "       [1., 1., 1., ..., 1., 1., 0.],\n",
       "       ...,\n",
       "       [1., 1., 1., ..., 1., 1., 0.],\n",
       "       [1., 1., 1., ..., 1., 1., 0.],\n",
       "       [1., 1., 1., ..., 1., 1., 0.]])"
      ]
     },
     "execution_count": 67,
     "metadata": {},
     "output_type": "execute_result"
    }
   ],
   "source": [
    "user_item_mtx2"
   ]
  },
  {
   "cell_type": "code",
   "execution_count": 68,
   "id": "16c8ce2f",
   "metadata": {},
   "outputs": [],
   "source": [
    "user_item_mtx = np.concatenate((user_item_mtx, user_item_mtx2), axis = 0)"
   ]
  },
  {
   "cell_type": "code",
   "execution_count": 69,
   "id": "9db0916f",
   "metadata": {},
   "outputs": [],
   "source": [
    "import matplotlib.pyplot as plt\n",
    "import seaborn as sns\n",
    "import pandas as pd"
   ]
  },
  {
   "cell_type": "code",
   "execution_count": 70,
   "id": "4c725aac",
   "metadata": {},
   "outputs": [
    {
     "data": {
      "text/plain": [
       "<AxesSubplot:>"
      ]
     },
     "execution_count": 70,
     "metadata": {},
     "output_type": "execute_result"
    },
    {
     "data": {
      "image/png": "[encoded data removed]",
      "text/plain": [
       "<Figure size 432x288 with 2 Axes>"
      ]
     },
     "metadata": {
      "needs_background": "light"
     },
     "output_type": "display_data"
    }
   ],
   "source": [
    "sns.heatmap(user_item_mtx)"
   ]
  },
  {
   "cell_type": "code",
   "execution_count": 71,
   "id": "10ffd64b",
   "metadata": {},
   "outputs": [
    {
     "data": {
      "image/png": "[encoded data removed]",
      "text/plain": [
       "<Figure size 432x288 with 2 Axes>"
      ]
     },
     "metadata": {
      "needs_background": "light"
     },
     "output_type": "display_data"
    }
   ],
   "source": [
    "ax = plt.axes()\n",
    "sns.heatmap(user_item_mtx, ax = ax)\n",
    "\n",
    "ax.set_xlabel('user index')\n",
    "ax.set_ylabel('item index')\n",
    "plt.show()"
   ]
  },
  {
   "cell_type": "code",
   "execution_count": null,
   "id": "0f0be358",
   "metadata": {},
   "outputs": [],
   "source": []
  },
  {
   "cell_type": "code",
   "execution_count": null,
   "id": "f6ab47e0",
   "metadata": {},
   "outputs": [],
   "source": []
  },
  {
   "cell_type": "code",
   "execution_count": null,
   "id": "d18b27d0",
   "metadata": {},
   "outputs": [],
   "source": []
  },
  {
   "cell_type": "code",
   "execution_count": 72,
   "id": "2877225e",
   "metadata": {},
   "outputs": [],
   "source": [
    "data2 = pd.DataFrame(user_item_mtx)"
   ]
  },
  {
   "cell_type": "code",
   "execution_count": 73,
   "id": "d7cc2672",
   "metadata": {},
   "outputs": [],
   "source": [
    "data2 = data2.unstack().reset_index()\n",
    "data2.columns = ['sid', 'uid', 'ratings']"
   ]
  },
  {
   "cell_type": "code",
   "execution_count": null,
   "id": "c2b57741",
   "metadata": {},
   "outputs": [],
   "source": []
  },
  {
   "cell_type": "code",
   "execution_count": 74,
   "id": "53147a25",
   "metadata": {},
   "outputs": [],
   "source": [
    "pos_data = data2[data2['ratings'] == 1.0]"
   ]
  },
  {
   "cell_type": "code",
   "execution_count": 75,
   "id": "e610cf00",
   "metadata": {},
   "outputs": [],
   "source": [
    "data2 = data2[['uid', 'sid']]"
   ]
  },
  {
   "cell_type": "code",
   "execution_count": null,
   "id": "dba9bbec",
   "metadata": {},
   "outputs": [],
   "source": []
  },
  {
   "cell_type": "code",
   "execution_count": 76,
   "id": "537ca5c1",
   "metadata": {},
   "outputs": [],
   "source": [
    "total_data = data2"
   ]
  },
  {
   "cell_type": "code",
   "execution_count": null,
   "id": "f2ddde4d",
   "metadata": {},
   "outputs": [],
   "source": []
  },
  {
   "cell_type": "code",
   "execution_count": 77,
   "id": "2233bc30",
   "metadata": {},
   "outputs": [],
   "source": [
    "train_df = pos_data[['uid', 'sid']].reset_index()[['uid', 'sid']]"
   ]
  },
  {
   "cell_type": "code",
   "execution_count": 78,
   "id": "aebbf3b9",
   "metadata": {},
   "outputs": [],
   "source": [
    "test_df = train_df"
   ]
  },
  {
   "cell_type": "code",
   "execution_count": 79,
   "id": "63a77dba",
   "metadata": {},
   "outputs": [],
   "source": [
    "val_df = train_df"
   ]
  },
  {
   "cell_type": "code",
   "execution_count": null,
   "id": "e2417077",
   "metadata": {},
   "outputs": [],
   "source": []
  },
  {
   "cell_type": "code",
   "execution_count": null,
   "id": "ee9d3cb2",
   "metadata": {},
   "outputs": [],
   "source": []
  },
  {
   "cell_type": "code",
   "execution_count": 80,
   "id": "6884d0d7",
   "metadata": {},
   "outputs": [],
   "source": [
    "#data2.to_csv('real_total_df', index = False)\n",
    "pos_data.to_csv('total_df', index = False)\n",
    "train_df.to_csv('train_df', index = False)\n",
    "#neg_sample_df.to_csv('neg_sample_df', index = False)\n",
    "\n",
    "val_df.to_csv('val_df', index = False)\n",
    "#val_df_with_neg.to_csv('val_df_with_neg', index = False)\n",
    "\n",
    "test_df.to_csv('test_df', index = False)\n",
    "#test_df_with_neg.to_csv('test_df_with_neg', index = False)"
   ]
  },
  {
   "cell_type": "code",
   "execution_count": null,
   "id": "d81d3ebc",
   "metadata": {},
   "outputs": [],
   "source": []
  },
  {
   "cell_type": "code",
   "execution_count": null,
   "id": "98ccc565",
   "metadata": {},
   "outputs": [],
   "source": []
  },
  {
   "cell_type": "code",
   "execution_count": null,
   "id": "a7f14748",
   "metadata": {},
   "outputs": [],
   "source": []
  },
  {
   "cell_type": "code",
   "execution_count": null,
   "id": "3d6f1c51",
   "metadata": {},
   "outputs": [],
   "source": []
  },
  {
   "cell_type": "code",
   "execution_count": null,
   "id": "f1d42820",
   "metadata": {},
   "outputs": [],
   "source": []
  },
  {
   "cell_type": "code",
   "execution_count": 81,
   "id": "00213ddb",
   "metadata": {},
   "outputs": [],
   "source": [
    "uid_pop_total = pos_data.uid.value_counts().reset_index()\n",
    "uid_pop_total.columns = ['uid', 'total_counts']\n",
    "\n",
    "sid_pop_total = pos_data.sid.value_counts().reset_index()\n",
    "sid_pop_total.columns = ['sid', 'total_counts']"
   ]
  },
  {
   "cell_type": "code",
   "execution_count": 82,
   "id": "05234bba",
   "metadata": {},
   "outputs": [],
   "source": [
    "uid_pop_train = train_df.uid.value_counts().reset_index()\n",
    "uid_pop_train.columns = ['uid', 'train_counts']\n",
    "\n",
    "sid_pop_train = train_df.sid.value_counts().reset_index()\n",
    "sid_pop_train.columns = ['sid', 'train_counts']"
   ]
  },
  {
   "cell_type": "code",
   "execution_count": null,
   "id": "d5a7d680",
   "metadata": {},
   "outputs": [],
   "source": []
  },
  {
   "cell_type": "code",
   "execution_count": null,
   "id": "747bfb86",
   "metadata": {},
   "outputs": [],
   "source": []
  },
  {
   "cell_type": "code",
   "execution_count": 83,
   "id": "76991a61",
   "metadata": {},
   "outputs": [],
   "source": [
    "uid_pop_total.to_csv('uid_pop_total', index = False)\n",
    "sid_pop_total.to_csv('sid_pop_total', index = False)\n",
    "\n",
    "uid_pop_train.to_csv('uid_pop_train', index = False)\n",
    "sid_pop_train.to_csv('sid_pop_train', index = False)"
   ]
  },
  {
   "cell_type": "code",
   "execution_count": null,
   "id": "c5f90576",
   "metadata": {},
   "outputs": [],
   "source": []
  },
  {
   "cell_type": "code",
   "execution_count": 125,
   "id": "93a446ad",
   "metadata": {},
   "outputs": [],
   "source": [
    "import seaborn as sns"
   ]
  },
  {
   "cell_type": "code",
   "execution_count": 76,
   "id": "ee7bbc23",
   "metadata": {},
   "outputs": [],
   "source": []
  },
  {
   "cell_type": "code",
   "execution_count": 126,
   "id": "539b70bf",
   "metadata": {},
   "outputs": [
    {
     "data": {
      "text/plain": [
       "<AxesSubplot:xlabel='sid', ylabel='uid'>"
      ]
     },
     "execution_count": 126,
     "metadata": {},
     "output_type": "execute_result"
    },
    {
     "data": {
      "image/png": "[encoded data removed]",
      "text/plain": [
       "<Figure size 432x288 with 2 Axes>"
      ]
     },
     "metadata": {
      "needs_background": "light"
     },
     "output_type": "display_data"
    }
   ],
   "source": [
    "tmp = train_df\n",
    "tmp['one'] = 1\n",
    "\n",
    "sns.heatmap(tmp.pivot_table(index = 'uid', columns = 'sid', values = 'one', fill_value = 0))"
   ]
  },
  {
   "cell_type": "code",
   "execution_count": 127,
   "id": "19f690ab",
   "metadata": {},
   "outputs": [
    {
     "data": {
      "text/plain": [
       "<AxesSubplot:xlabel='sid', ylabel='uid'>"
      ]
     },
     "execution_count": 127,
     "metadata": {},
     "output_type": "execute_result"
    },
    {
     "data": {
      "image/png": "[encoded data removed]",
      "text/plain": [
       "<Figure size 432x288 with 2 Axes>"
      ]
     },
     "metadata": {
      "needs_background": "light"
     },
     "output_type": "display_data"
    }
   ],
   "source": [
    "tmp = val_df\n",
    "tmp['one'] = 1\n",
    "\n",
    "sns.heatmap(tmp.pivot_table(index = 'uid', columns = 'sid', values = 'one', fill_value = 0))"
   ]
  },
  {
   "cell_type": "code",
   "execution_count": 128,
   "id": "04aeeea1",
   "metadata": {},
   "outputs": [
    {
     "data": {
      "text/plain": [
       "<AxesSubplot:xlabel='sid', ylabel='uid'>"
      ]
     },
     "execution_count": 128,
     "metadata": {},
     "output_type": "execute_result"
    },
    {
     "data": {
      "image/png": "[encoded data removed]",
      "text/plain": [
       "<Figure size 432x288 with 2 Axes>"
      ]
     },
     "metadata": {
      "needs_background": "light"
     },
     "output_type": "display_data"
    }
   ],
   "source": [
    "tmp = test_df\n",
    "tmp['one'] = 1\n",
    "\n",
    "sns.heatmap(tmp.pivot_table(index = 'uid', columns = 'sid', values = 'one', fill_value = 0))"
   ]
  },
  {
   "cell_type": "code",
   "execution_count": null,
   "id": "895d9cbe",
   "metadata": {},
   "outputs": [],
   "source": []
  },
  {
   "cell_type": "code",
   "execution_count": 129,
   "id": "e915be3c",
   "metadata": {},
   "outputs": [
    {
     "data": {
      "text/plain": [
       "<AxesSubplot:xlabel='sid', ylabel='uid'>"
      ]
     },
     "execution_count": 129,
     "metadata": {},
     "output_type": "execute_result"
    },
    {
     "data": {
      "image/png": "[encoded data removed]",
      "text/plain": [
       "<Figure size 432x288 with 2 Axes>"
      ]
     },
     "metadata": {
      "needs_background": "light"
     },
     "output_type": "display_data"
    }
   ],
   "source": [
    "tmp = neg_sample_df\n",
    "tmp['one'] = 1\n",
    "\n",
    "sns.heatmap(tmp.pivot_table(index = 'uid', columns = 'sid', values = 'one', fill_value = 0))"
   ]
  },
  {
   "cell_type": "code",
   "execution_count": null,
   "id": "e84b402a",
   "metadata": {},
   "outputs": [],
   "source": []
  },
  {
   "cell_type": "code",
   "execution_count": null,
   "id": "afc08150",
   "metadata": {},
   "outputs": [],
   "source": []
  },
  {
   "cell_type": "code",
   "execution_count": null,
   "id": "3c283c3f",
   "metadata": {},
   "outputs": [],
   "source": []
  }
 ],
 "metadata": {
  "kernelspec": {
   "display_name": "repeat",
   "language": "python",
   "name": "repeat"
  },
  "language_info": {
   "codemirror_mode": {
    "name": "ipython",
    "version": 3
   },
   "file_extension": ".py",
   "mimetype": "text/x-python",
   "name": "python",
   "nbconvert_exporter": "python",
   "pygments_lexer": "ipython3",
   "version": "3.8.2"
  }
 },
 "nbformat": 4,
 "nbformat_minor": 5
}
