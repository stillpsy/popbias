{
 "cells": [
  {
   "cell_type": "code",
   "execution_count": 35,
   "id": "2d632d98",
   "metadata": {},
   "outputs": [],
   "source": [
    "import numpy as np \n",
    "import pandas as pd \n",
    "import scipy.sparse as sp\n",
    "\n",
    "import torch.utils.data as data\n",
    "import os\n",
    "os.chdir('./')\n",
    "\n",
    "import random as random"
   ]
  },
  {
   "cell_type": "code",
   "execution_count": 36,
   "id": "867cf1fd",
   "metadata": {},
   "outputs": [],
   "source": [
    "random.seed(0)"
   ]
  },
  {
   "cell_type": "code",
   "execution_count": 37,
   "id": "152547b5",
   "metadata": {},
   "outputs": [],
   "source": [
    "def load_all_custom(test_num=100):\n",
    "\t\"\"\" We load all the three file here to save time in each epoch. \"\"\"\n",
    "    \n",
    "\t'''train_data = pd.read_csv(\n",
    "\t\t'./data/train_df', header=None, names=['user', 'item'], \n",
    "\t\tusecols=[0, 1], dtype={0: np.int32, 1: np.int32}) '''\n",
    "\t#train_data = pd.read_csv('./data/train_df')    \n",
    "\t#train_data = pd.read_csv('./data/synthetic/train_df')\n",
    "\ttrain_data = pd.read_csv('./train_df')    \n",
    "    \n",
    "\ttrain_data = train_data[['uid', 'sid']]\n",
    "\ttrain_data['uid'] = train_data['uid'].apply(lambda x : int(x))\n",
    "\ttrain_data['sid'] = train_data['sid'].apply(lambda x : int(x))    \n",
    "\ttrain_data.columns = ['user', 'item']\n",
    "    \n",
    "\tuser_num = train_data['user'].max() + 1\n",
    "\titem_num = train_data['item'].max() + 1\n",
    "\n",
    "\ttrain_data = train_data.values.tolist()\n",
    "\n",
    "\t# load ratings as a dok matrix\n",
    "\ttrain_mat = sp.dok_matrix((user_num, item_num), dtype=np.float32)\n",
    "\tfor x in train_data:\n",
    "\t\ttrain_mat[x[0], x[1]] = 1.0\n",
    "\ttotal_mat = train_mat\n",
    "    \n",
    "    \n",
    "\t'''test_data = []\n",
    "\tfor user in list(range(6040)):\n",
    "\t\ttmp = test_df_true_neg[test_df_true_neg['user'] == user][['user', 'item', 'type']]\n",
    "\t\ttmp = tmp.values.tolist()\n",
    "\t\ttest_data.append(tmp)\n",
    "\t'''\n",
    "\n",
    "\treturn train_data, user_num, item_num, train_mat, total_mat"
   ]
  },
  {
   "cell_type": "code",
   "execution_count": 38,
   "id": "dccc0cb1",
   "metadata": {},
   "outputs": [],
   "source": [
    "class BPRData(data.Dataset):\n",
    "\tdef __init__(self, features, \n",
    "\t\t\t\tnum_item, train_mat=None, total_mat=None, num_ng=0, is_training=None, sample_mode = None):\n",
    "\t\tsuper(BPRData, self).__init__()\n",
    "\t\t\"\"\" Note that the labels are only useful when training, we thus \n",
    "\t\t\tadd them in the ng_sample() function.\n",
    "\t\t\"\"\"\n",
    "\t\tself.features = features\n",
    "\t\tself.num_item = num_item\n",
    "\t\tself.train_mat = train_mat\n",
    "\t\tself.total_mat = total_mat\n",
    "\t\tself.num_ng = num_ng\n",
    "\t\tself.is_training = is_training\n",
    "\t\t# self.labels = [0 for _ in range(len(features))]\n",
    "\n",
    "\tdef ng_sample(self):\n",
    "\n",
    "\t\tif True:\n",
    "\t\t\tassert self.is_training, 'no need to sampling when testing'\n",
    "\t\t\tself.features_fill = []\n",
    "\t\t\t### self.features is train [user, pos item] list\n",
    "\t\t\ttmp = pd.DataFrame(self.features)\n",
    "\t\t\ttmp.columns = ['uid', 'sid']\n",
    "            \n",
    "\t\t\t### [user pos] -> [user pos1 pos2] \n",
    "\t\t\t### by groupby uid, then shuffling sid\n",
    "\t\t\ttmp = tmp.sort_values('uid')\n",
    "\t\t\ttmp_list = list(range(tmp.shape[0]))\n",
    "\t\t\trandom.shuffle(tmp_list)\n",
    "\t\t\ttmp['rng'] = tmp_list\n",
    "\t\t\tsid2 = tmp.sort_values(['uid', 'rng']).sid\n",
    "\t\t\ttmp['sid2'] = sid2.reset_index().sid\n",
    "\t\t\ttmp = tmp[['uid', 'sid', 'sid2']]\n",
    "\t\t\ttmp = tmp.sort_index()\n",
    "\t\t\tself.features2 = tmp.values.tolist()         \n",
    "                \n",
    "\t\tfor x in self.features2:\n",
    "\t\t\tu, pos1, pos2 = x[0], x[1], x[2]\n",
    "\t\t\tfor t in range(self.num_ng):\n",
    "\t\t\t\tif u == 0:\n",
    "\t\t\t\t\tneg1, neg2 = 199, 199                    \n",
    "\t\t\t\telif u == 1:\n",
    "\t\t\t\t\tneg1, neg2 = 198, 199                    \n",
    "\t\t\t\telif u <= 199:\n",
    "\t\t\t\t\tneg1, neg2 = np.random.randint(199-u + 1, 200, size = 2)                    \n",
    "\t\t\t\telif u >= 200:\n",
    "\t\t\t\t\tneg1, neg2 = 199, 199                    \n",
    "\t\t\t\telse:\n",
    "\t\t\t\t\t# index가 998 이면 1 까지가 있고, 1번부터 999 까지 중에 하나\n",
    "\t\t\t\t\t# index가 997 이면 2 까지가 있고, 2번인덱스부터 999 까지 중에 하나\n",
    "\t\t\t\t\t# 즉 start index가 999 - u                    \n",
    "\t\t\t\t\tneg1, neg2 = np.random.randint(0, u-199, size = 2)\n",
    "\t\t\t\tself.features_fill.append([u, pos1, pos2, neg1, neg2])\n",
    "\n",
    "\n",
    "\tdef __len__(self):\n",
    "\t\treturn self.num_ng * len(self.features) if self.is_training \\\n",
    "\t\t\t\t\telse len(self.features)\n",
    "\n",
    "\tdef __getitem__(self, idx):\n",
    "\t\tfeatures = self.features_fill if \\\n",
    "\t\t\t\t\tself.is_training else self.features\n",
    "\n",
    "\t\tuser = features[idx][0]\n",
    "\t\titem_i = features[idx][1]\n",
    "\t\titem_j = features[idx][2] if \\\n",
    "\t\t\t\t\tself.is_training else features[idx][1]        \n",
    "\t\treturn user, item_i, item_j"
   ]
  },
  {
   "cell_type": "code",
   "execution_count": 39,
   "id": "4a016f92",
   "metadata": {},
   "outputs": [],
   "source": [
    "train_data, user_num, item_num, train_mat, total_mat = load_all_custom()"
   ]
  },
  {
   "cell_type": "code",
   "execution_count": 40,
   "id": "372752a1",
   "metadata": {},
   "outputs": [
    {
     "name": "stdout",
     "output_type": "stream",
     "text": [
      "original user-pos tuple is\n"
     ]
    },
    {
     "data": {
      "text/plain": [
       "[[0, 0],\n",
       " [1, 0],\n",
       " [2, 0],\n",
       " [3, 0],\n",
       " [4, 0],\n",
       " [5, 0],\n",
       " [6, 0],\n",
       " [7, 0],\n",
       " [8, 0],\n",
       " [9, 0]]"
      ]
     },
     "execution_count": 40,
     "metadata": {},
     "output_type": "execute_result"
    }
   ],
   "source": [
    "print('original user-pos tuple is')\n",
    "train_data[0:10]"
   ]
  },
  {
   "cell_type": "code",
   "execution_count": 41,
   "id": "d8511818",
   "metadata": {},
   "outputs": [],
   "source": [
    "train_dataset = BPRData(train_data, item_num, train_mat, total_mat, num_ng=1, is_training=True, sample_mode=None)"
   ]
  },
  {
   "cell_type": "code",
   "execution_count": 42,
   "id": "071f431c",
   "metadata": {},
   "outputs": [],
   "source": [
    "train_dataset.ng_sample()"
   ]
  },
  {
   "cell_type": "code",
   "execution_count": 43,
   "id": "5a2df585",
   "metadata": {},
   "outputs": [],
   "source": [
    "negative_samples = train_dataset.features_fill"
   ]
  },
  {
   "cell_type": "code",
   "execution_count": 44,
   "id": "4d99d3c7",
   "metadata": {},
   "outputs": [
    {
     "name": "stdout",
     "output_type": "stream",
     "text": [
      "new (user, pos1, pos2, neg1, neg2) tuple is\n"
     ]
    },
    {
     "data": {
      "text/plain": [
       "[[0, 0, 116, 199, 199],\n",
       " [1, 0, 88, 198, 199],\n",
       " [2, 0, 85, 198, 198],\n",
       " [3, 0, 40, 199, 197],\n",
       " [4, 0, 72, 196, 197],\n",
       " [5, 0, 193, 198, 195],\n",
       " [6, 0, 64, 195, 198],\n",
       " [7, 0, 9, 197, 196],\n",
       " [8, 0, 191, 194, 199],\n",
       " [9, 0, 190, 193, 194]]"
      ]
     },
     "execution_count": 44,
     "metadata": {},
     "output_type": "execute_result"
    }
   ],
   "source": [
    "print('new (user, pos1, pos2, neg1, neg2) tuple is')\n",
    "negative_samples[0:10]"
   ]
  },
  {
   "cell_type": "code",
   "execution_count": 45,
   "id": "57cab65d",
   "metadata": {},
   "outputs": [],
   "source": [
    "tmp1 = np.array(negative_samples)[:, 1]\n",
    "tmp2 = np.array(negative_samples)[:, 2]"
   ]
  },
  {
   "cell_type": "code",
   "execution_count": 46,
   "id": "e5c82576",
   "metadata": {},
   "outputs": [
    {
     "name": "stdout",
     "output_type": "stream",
     "text": [
      "ratio of pos1 > pos2\n",
      "0.49262981574539366\n"
     ]
    }
   ],
   "source": [
    "print('ratio of pos1 > pos2')\n",
    "print(np.mean(tmp1 > tmp2))"
   ]
  },
  {
   "cell_type": "code",
   "execution_count": null,
   "id": "f00b4a99",
   "metadata": {},
   "outputs": [],
   "source": []
  },
  {
   "cell_type": "markdown",
   "id": "dc482de3",
   "metadata": {},
   "source": [
    "#### Generate Epoch Training Data for Faster, Reproducible Training"
   ]
  },
  {
   "cell_type": "code",
   "execution_count": 47,
   "id": "a87825dd",
   "metadata": {},
   "outputs": [],
   "source": [
    "random.seed(0)"
   ]
  },
  {
   "cell_type": "code",
   "execution_count": 48,
   "id": "cd20cb7d",
   "metadata": {},
   "outputs": [],
   "source": [
    "total_epochs = 10\n",
    "num_ng = 3"
   ]
  },
  {
   "cell_type": "code",
   "execution_count": 49,
   "id": "3b10cab7",
   "metadata": {},
   "outputs": [
    {
     "name": "stdout",
     "output_type": "stream",
     "text": [
      "0\n",
      "1\n",
      "2\n",
      "3\n",
      "4\n",
      "5\n",
      "6\n",
      "7\n",
      "8\n",
      "9\n"
     ]
    }
   ],
   "source": [
    "import pickle\n",
    "for i in range(total_epochs):\n",
    "    print(i)\n",
    "    train_list = []\n",
    "    for j in range(num_ng):\n",
    "        train_dataset.ng_sample()\n",
    "        train_samples = train_dataset.features_fill\n",
    "        train_list += train_samples\n",
    "    with open(f'./train_samples/train_samples_{i}', 'wb') as fp:\n",
    "        pickle.dump(train_list, fp)"
   ]
  },
  {
   "cell_type": "code",
   "execution_count": null,
   "id": "9f91690b",
   "metadata": {},
   "outputs": [],
   "source": []
  },
  {
   "cell_type": "code",
   "execution_count": null,
   "id": "0cdae174",
   "metadata": {},
   "outputs": [],
   "source": []
  },
  {
   "cell_type": "code",
   "execution_count": null,
   "id": "d341faa0",
   "metadata": {},
   "outputs": [],
   "source": []
  }
 ],
 "metadata": {
  "kernelspec": {
   "display_name": "repeat",
   "language": "python",
   "name": "repeat"
  },
  "language_info": {
   "codemirror_mode": {
    "name": "ipython",
    "version": 3
   },
   "file_extension": ".py",
   "mimetype": "text/x-python",
   "name": "python",
   "nbconvert_exporter": "python",
   "pygments_lexer": "ipython3",
   "version": "3.8.2"
  }
 },
 "nbformat": 4,
 "nbformat_minor": 5
}
