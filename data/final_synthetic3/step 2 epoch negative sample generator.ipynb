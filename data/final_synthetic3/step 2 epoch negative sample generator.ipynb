{
 "cells": [
  {
   "cell_type": "code",
   "execution_count": 1,
   "id": "2d632d98",
   "metadata": {},
   "outputs": [],
   "source": [
    "import numpy as np \n",
    "import pandas as pd \n",
    "import scipy.sparse as sp\n",
    "\n",
    "import torch.utils.data as data\n",
    "import os\n",
    "os.chdir('./')\n",
    "\n",
    "import random as random"
   ]
  },
  {
   "cell_type": "code",
   "execution_count": 2,
   "id": "867cf1fd",
   "metadata": {},
   "outputs": [],
   "source": [
    "random.seed(0)"
   ]
  },
  {
   "cell_type": "code",
   "execution_count": 3,
   "id": "152547b5",
   "metadata": {},
   "outputs": [],
   "source": [
    "def load_all_custom(test_num=100):\n",
    "    train_data = pd.read_csv('./train_df')    \n",
    "    \n",
    "    train_data = train_data[['uid', 'sid']]\n",
    "    train_data['uid'] = train_data['uid'].apply(lambda x : int(x))\n",
    "    train_data['sid'] = train_data['sid'].apply(lambda x : int(x))    \n",
    "    train_data.columns = ['user', 'item']\n",
    "    \n",
    "    user_num = train_data['user'].max() + 1\n",
    "    item_num = train_data['item'].max() + 1\n",
    "\n",
    "    train_data = train_data.values.tolist()\n",
    "\n",
    "    # load ratings as a dok matrix\n",
    "    train_mat = sp.dok_matrix((user_num, item_num), dtype=np.float32)\n",
    "    for x in train_data:\n",
    "        train_mat[x[0], x[1]] = 1.0\n",
    "    total_mat = train_mat\n",
    "\n",
    "    return train_data, user_num, item_num, train_mat, total_mat"
   ]
  },
  {
   "cell_type": "code",
   "execution_count": 4,
   "id": "dccc0cb1",
   "metadata": {},
   "outputs": [],
   "source": [
    "class BPRData(data.Dataset):\n",
    "    def __init__(self, features, \n",
    "                num_item, train_mat=None, total_mat=None, num_ng=0, is_training=None, sample_mode = None):\n",
    "        super(BPRData, self).__init__()\n",
    "        \"\"\" Note that the labels are only useful when training, we thus \n",
    "            add them in the ng_sample() function.\n",
    "        \"\"\"\n",
    "        self.features = features\n",
    "        self.num_item = num_item\n",
    "        self.train_mat = train_mat\n",
    "        self.total_mat = total_mat\n",
    "        self.num_ng = num_ng\n",
    "        self.is_training = is_training\n",
    "\n",
    "    def ng_sample(self):\n",
    "        if True:\n",
    "            assert self.is_training, 'no need to sampling when testing'\n",
    "            self.features_fill = []\n",
    "\n",
    "            tmp = pd.DataFrame(self.features)\n",
    "            tmp.columns = ['uid', 'sid']\n",
    "            \n",
    "            tmp = tmp.sort_values('uid')\n",
    "            tmp_list = list(range(tmp.shape[0]))\n",
    "            random.shuffle(tmp_list)\n",
    "            tmp['rng'] = tmp_list\n",
    "            sid2 = tmp.sort_values(['uid', 'rng']).sid\n",
    "            tmp['sid2'] = sid2.reset_index().sid\n",
    "            tmp = tmp[['uid', 'sid', 'sid2']]\n",
    "            tmp = tmp.sort_index()\n",
    "            self.features2 = tmp.values.tolist()         \n",
    "                \n",
    "        for x in self.features2:\n",
    "            u, pos1, pos2 = x[0], x[1], x[2]\n",
    "            for t in range(self.num_ng):\n",
    "                if u == 0:\n",
    "                    neg1, neg2 = 199, 199                    \n",
    "                elif u == 1:\n",
    "                    neg1, neg2 = 198, 198                    \n",
    "                elif u == 199:\n",
    "                    neg1, neg2 = np.random.randint(199-u + 1, 200, size = 2)\n",
    "                else:\n",
    "                    neg1, neg2 = np.random.randint(199-u, 200, size = 2)\n",
    "                self.features_fill.append([u, pos1, pos2, neg1, neg2])\n",
    "    def __len__(self):\n",
    "        return self.num_ng * len(self.features) if self.is_training \\\n",
    "                    else len(self.features)\n",
    "    def __getitem__(self, idx):\n",
    "        features = self.features_fill if \\\n",
    "                    self.is_training else self.features\n",
    "        user = features[idx][0]\n",
    "        item_i = features[idx][1]\n",
    "        item_j = features[idx][2] if \\\n",
    "                    self.is_training else features[idx][1]        \n",
    "        return user, item_i, item_j"
   ]
  },
  {
   "cell_type": "code",
   "execution_count": 5,
   "id": "4a016f92",
   "metadata": {},
   "outputs": [],
   "source": [
    "train_data, user_num, item_num, train_mat, total_mat = load_all_custom()\n",
    "print('original user-pos tuple is')\n",
    "train_data[0:10]"
   ]
  },
  {
   "cell_type": "code",
   "execution_count": null,
   "id": "372752a1",
   "metadata": {},
   "outputs": [],
   "source": []
  },
  {
   "cell_type": "code",
   "execution_count": 7,
   "id": "d8511818",
   "metadata": {},
   "outputs": [],
   "source": [
    "train_dataset = BPRData(train_data, item_num, train_mat, total_mat, num_ng=1, is_training=True, sample_mode=None)"
   ]
  },
  {
   "cell_type": "code",
   "execution_count": 8,
   "id": "071f431c",
   "metadata": {},
   "outputs": [],
   "source": [
    "train_dataset.ng_sample()\n",
    "negative_samples = train_dataset.features_fill\n",
    "print('new (user, pos1, pos2, neg1, neg2) tuple is')\n",
    "negative_samples[0:10]"
   ]
  },
  {
   "cell_type": "code",
   "execution_count": null,
   "id": "5a2df585",
   "metadata": {},
   "outputs": [],
   "source": []
  },
  {
   "cell_type": "code",
   "execution_count": null,
   "id": "4d99d3c7",
   "metadata": {},
   "outputs": [],
   "source": [
    "tmp1 = np.array(negative_samples)[:, 1]\n",
    "tmp2 = np.array(negative_samples)[:, 2]\n",
    "print('ratio of pos1 > pos2')\n",
    "print(np.mean(tmp1 > tmp2))"
   ]
  },
  {
   "cell_type": "code",
   "execution_count": null,
   "id": "57cab65d",
   "metadata": {},
   "outputs": [],
   "source": []
  },
  {
   "cell_type": "markdown",
   "id": "dc482de3",
   "metadata": {},
   "source": [
    "#### Generate Epoch Training Data for Faster, Reproducible Training"
   ]
  },
  {
   "cell_type": "code",
   "execution_count": 13,
   "id": "a87825dd",
   "metadata": {},
   "outputs": [],
   "source": [
    "random.seed(0)"
   ]
  },
  {
   "cell_type": "code",
   "execution_count": 14,
   "id": "cd20cb7d",
   "metadata": {},
   "outputs": [],
   "source": [
    "total_epochs = 20\n",
    "num_ng = 3"
   ]
  },
  {
   "cell_type": "code",
   "execution_count": 15,
   "id": "3b10cab7",
   "metadata": {},
   "outputs": [
    {
     "name": "stdout",
     "output_type": "stream",
     "text": [
      "0\n",
      "1\n",
      "2\n",
      "3\n",
      "4\n",
      "5\n",
      "6\n",
      "7\n",
      "8\n",
      "9\n",
      "10\n",
      "11\n",
      "12\n",
      "13\n",
      "14\n",
      "15\n",
      "16\n",
      "17\n",
      "18\n",
      "19\n"
     ]
    }
   ],
   "source": [
    "import pickle\n",
    "for i in range(total_epochs):\n",
    "    print(i)\n",
    "    train_list = []\n",
    "    for j in range(num_ng):\n",
    "        train_dataset.ng_sample()\n",
    "        train_samples = train_dataset.features_fill\n",
    "        train_list += train_samples\n",
    "    with open(f'./train_samples/train_samples_{i}', 'wb') as fp:\n",
    "        pickle.dump(train_list, fp)"
   ]
  },
  {
   "cell_type": "code",
   "execution_count": null,
   "id": "0cdae174",
   "metadata": {},
   "outputs": [],
   "source": []
  }
 ],
 "metadata": {
  "kernelspec": {
   "display_name": "repeat",
   "language": "python",
   "name": "repeat"
  },
  "language_info": {
   "codemirror_mode": {
    "name": "ipython",
    "version": 3
   },
   "file_extension": ".py",
   "mimetype": "text/x-python",
   "name": "python",
   "nbconvert_exporter": "python",
   "pygments_lexer": "ipython3",
   "version": "3.8.2"
  }
 },
 "nbformat": 4,
 "nbformat_minor": 5
}
