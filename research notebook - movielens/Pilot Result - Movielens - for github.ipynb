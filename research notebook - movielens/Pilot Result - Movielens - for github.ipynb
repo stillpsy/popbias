{
 "cells": [
  {
   "cell_type": "code",
   "execution_count": 1,
   "id": "e8bd1c59",
   "metadata": {},
   "outputs": [],
   "source": [
    "import os\n",
    "import time\n",
    "import argparse\n",
    "import numpy as np\n",
    "import pandas as pd\n",
    "import matplotlib.pyplot as plt\n",
    "\n",
    "import torch\n",
    "import torch.nn as nn\n",
    "import torch.optim as optim\n",
    "import torch.utils.data as data\n",
    "import torch.backends.cudnn as cudnn\n",
    "from tensorboardX import SummaryWriter\n",
    "os.chdir('../')"
   ]
  },
  {
   "cell_type": "code",
   "execution_count": 2,
   "id": "cb5199dc",
   "metadata": {},
   "outputs": [],
   "source": [
    "import model_basic\n",
    "import config\n",
    "import evaluate\n",
    "import data_utils"
   ]
  },
  {
   "cell_type": "code",
   "execution_count": 3,
   "id": "8a07fc33",
   "metadata": {},
   "outputs": [],
   "source": [
    "os.environ[\"CUDA_VISIBLE_DEVICES\"] = '1'\n",
    "test_data_without_neg = pd.read_csv('./data/final_movielens/test_df')   \n",
    "sid_pop_total = pd.read_csv('./data/final_movielens/sid_pop_total')"
   ]
  },
  {
   "cell_type": "code",
   "execution_count": null,
   "id": "da754abe",
   "metadata": {},
   "outputs": [],
   "source": []
  },
  {
   "cell_type": "markdown",
   "id": "154006e0",
   "metadata": {},
   "source": [
    "### Load baseline and zerosum models"
   ]
  },
  {
   "cell_type": "markdown",
   "id": "03a0f63f",
   "metadata": {},
   "source": [
    "We load the 'MF' model for demonstration of the result."
   ]
  },
  {
   "cell_type": "code",
   "execution_count": 4,
   "id": "60f623bb",
   "metadata": {},
   "outputs": [],
   "source": [
    "model = 'MF'\n",
    "model_baseline = torch.load(f'./models/final_movielens__{model}_none_1.0_20.pth')\n",
    "model_zerosum = torch.load(f'./models/final_movielens__{model}_posneg_0.9_20.pth')"
   ]
  },
  {
   "cell_type": "markdown",
   "id": "bf0e499d",
   "metadata": {},
   "source": [
    "We load the relevant functions to evaluate the result.\n",
    "\n",
    "When using the GNN models, different function from the pop_bias_metrics_graph.py must be loaded."
   ]
  },
  {
   "cell_type": "code",
   "execution_count": 5,
   "id": "83bf2703",
   "metadata": {},
   "outputs": [],
   "source": [
    "from pop_bias_metrics_basic import pred_item_rank, pred_item_score, pred_item_stdscore, pred_item_rankdist, raw_pred_score, pcc_train, pcc_test, uPO\n",
    "import scipy.stats as stats\n",
    "from scipy.stats import skew"
   ]
  },
  {
   "cell_type": "code",
   "execution_count": 6,
   "id": "1b107a92",
   "metadata": {},
   "outputs": [
    {
     "data": {
      "text/html": [
       "<div>\n",
       "<style scoped>\n",
       "    .dataframe tbody tr th:only-of-type {\n",
       "        vertical-align: middle;\n",
       "    }\n",
       "\n",
       "    .dataframe tbody tr th {\n",
       "        vertical-align: top;\n",
       "    }\n",
       "\n",
       "    .dataframe thead th {\n",
       "        text-align: right;\n",
       "    }\n",
       "</style>\n",
       "<table border=\"1\" class=\"dataframe\">\n",
       "  <thead>\n",
       "    <tr style=\"text-align: right;\">\n",
       "      <th></th>\n",
       "      <th>batch</th>\n",
       "      <th>sample</th>\n",
       "      <th>weight</th>\n",
       "      <th>HR</th>\n",
       "      <th>NDCG</th>\n",
       "      <th>iPO</th>\n",
       "      <th>PopQ@1</th>\n",
       "    </tr>\n",
       "  </thead>\n",
       "  <tbody>\n",
       "    <tr>\n",
       "      <th>20</th>\n",
       "      <td>2048</td>\n",
       "      <td>baseline</td>\n",
       "      <td>1.0</td>\n",
       "      <td>0.728839</td>\n",
       "      <td>0.475552</td>\n",
       "      <td>-0.910999</td>\n",
       "      <td>0.181087</td>\n",
       "    </tr>\n",
       "    <tr>\n",
       "      <th>20</th>\n",
       "      <td>2048</td>\n",
       "      <td>zerosum</td>\n",
       "      <td>0.9</td>\n",
       "      <td>0.718033</td>\n",
       "      <td>0.449557</td>\n",
       "      <td>-0.933155</td>\n",
       "      <td>0.383115</td>\n",
       "    </tr>\n",
       "  </tbody>\n",
       "</table>\n",
       "</div>"
      ],
      "text/plain": [
       "    batch    sample  weight        HR      NDCG       iPO    PopQ@1\n",
       "20   2048  baseline     1.0  0.728839  0.475552 -0.910999  0.181087\n",
       "20   2048   zerosum     0.9  0.718033  0.449557 -0.933155  0.383115"
      ]
     },
     "execution_count": 6,
     "metadata": {},
     "output_type": "execute_result"
    }
   ],
   "source": [
    "model = 'MF'\n",
    "\n",
    "baseline = pd.read_csv(f'./experiments/{model}_movielens_none_20_1.0_burninno_regno.csv')\n",
    "zerosum = pd.read_csv(f'./experiments/{model}_movielens_posneg_20_0.9_burninno_regno.csv')\n",
    "\n",
    "result = pd.concat([baseline.tail(1), zerosum.tail(1)])\n",
    "result = result[['batch', 'sample', 'weight', 'HR', 'NDCG', 'SCC_rank', 'mean']]\n",
    "result.columns = ['batch', 'sample', 'weight', 'HR', 'NDCG', 'iPO', 'PopQ@1']\n",
    "result['sample'] = ['baseline', 'zerosum']\n",
    "result"
   ]
  },
  {
   "cell_type": "code",
   "execution_count": null,
   "id": "452aeab1",
   "metadata": {},
   "outputs": [],
   "source": []
  },
  {
   "cell_type": "markdown",
   "id": "4f4977a9",
   "metadata": {},
   "source": [
    "### Calculating the popularity-rank correlation for items (iPO)"
   ]
  },
  {
   "cell_type": "code",
   "execution_count": 7,
   "id": "39fa5bb3",
   "metadata": {},
   "outputs": [],
   "source": [
    "baseline = pred_item_rank(model_baseline, test_data_without_neg, sid_pop_total)\n",
    "zerosum = pred_item_rank(model_zerosum, test_data_without_neg, sid_pop_total)"
   ]
  },
  {
   "cell_type": "code",
   "execution_count": 8,
   "id": "c807ff82",
   "metadata": {},
   "outputs": [
    {
     "data": {
      "text/plain": [
       "<matplotlib.lines._AxLine at 0x7f0a862c2b80>"
      ]
     },
     "execution_count": 8,
     "metadata": {},
     "output_type": "execute_result"
    },
    {
     "data": {
      "image/png": "[encoded data removed]",
      "text/plain": [
       "<Figure size 864x432 with 2 Axes>"
      ]
     },
     "metadata": {
      "needs_background": "light"
     },
     "output_type": "display_data"
    }
   ],
   "source": [
    "fig = plt.figure(figsize=(12, 6))\n",
    "ax1 = fig.add_subplot(121)\n",
    "ax2 = fig.add_subplot(122)\n",
    "ax1.scatter(baseline['sid_pop_count'], baseline['rank'], s = 1)\n",
    "ax1.set_ylim([0, 1])\n",
    "ax1.axline((0, 0.2), slope=0., color='C0')\n",
    "ax2.scatter(zerosum['sid_pop_count'], zerosum['rank'], s = 1)\n",
    "ax2.set_ylim([0, 1])\n",
    "ax2.axline((0, 0.2), slope=0., color='C0')"
   ]
  },
  {
   "cell_type": "markdown",
   "id": "71bf1902",
   "metadata": {},
   "source": [
    "**Result**\n",
    "\n",
    "The left corresponds to the item popularity(x) - item rank(y) plot for the baseline method.\n",
    "\n",
    "The right corresponds to the item popularity(x) - item rank(y) plot for the zerosum method.\n",
    "\n",
    "\n",
    "Both shows a similar correlation between item popularity and item rank, i.e. popular items are likely to be ranked higher among positive items.\n",
    "\n",
    "However, we see that for the zerosum method, the average item rank of the most popular items increased from below 0.2 to agove 0.2.\n",
    "\n",
    "Since the popular items is likely to be included in the recommendation list of numerous users, this indicate a vast reduction in model bias that the iPO score can not capture.\n",
    "\n"
   ]
  },
  {
   "cell_type": "code",
   "execution_count": null,
   "id": "9faa43ab",
   "metadata": {},
   "outputs": [],
   "source": []
  },
  {
   "cell_type": "markdown",
   "id": "c602d09a",
   "metadata": {},
   "source": [
    "### Calculating the Pop Q @ 1"
   ]
  },
  {
   "cell_type": "code",
   "execution_count": 9,
   "id": "b5ff529a",
   "metadata": {},
   "outputs": [],
   "source": [
    "baseline = pred_item_rankdist(model_baseline, test_data_without_neg, sid_pop_total)\n",
    "zerosum = pred_item_rankdist(model_zerosum, test_data_without_neg, sid_pop_total)"
   ]
  },
  {
   "cell_type": "code",
   "execution_count": 10,
   "id": "d66c5fdf",
   "metadata": {},
   "outputs": [
    {
     "data": {
      "text/plain": [
       "<AxesSubplot:>"
      ]
     },
     "execution_count": 10,
     "metadata": {},
     "output_type": "execute_result"
    },
    {
     "data": {
      "image/png": "[encoded data removed]",
      "text/plain": [
       "<Figure size 432x288 with 1 Axes>"
      ]
     },
     "metadata": {
      "needs_background": "light"
     },
     "output_type": "display_data"
    }
   ],
   "source": [
    "baseline.hist(bins = 100)"
   ]
  },
  {
   "cell_type": "code",
   "execution_count": 11,
   "id": "2d70635e",
   "metadata": {},
   "outputs": [
    {
     "data": {
      "text/plain": [
       "<AxesSubplot:>"
      ]
     },
     "execution_count": 11,
     "metadata": {},
     "output_type": "execute_result"
    },
    {
     "data": {
      "image/png": "[encoded data removed]",
      "text/plain": [
       "<Figure size 432x288 with 1 Axes>"
      ]
     },
     "metadata": {
      "needs_background": "light"
     },
     "output_type": "display_data"
    }
   ],
   "source": [
    "zerosum.hist(bins = 100)"
   ]
  },
  {
   "cell_type": "markdown",
   "id": "6e798a9a",
   "metadata": {},
   "source": [
    "**Result**\n",
    "\n",
    "The reduction in model bias is more salient when comparing the Popularity Quantile of the top scoring positive items.\n",
    "\n",
    "The plot above shows the histogram of the popularity quantile of the top scoring positive items of each user for the baseline method.\n",
    "\n",
    "The plot below shows the same histogram for the zerosum method.\n",
    "\n",
    "\n",
    "Clearly, whereas the baseline method is prone to model bias, with the top scoring positive items mostly also being the most popular positive items;\n",
    "\n",
    "the zerosum method is able to greatly reduce model bias."
   ]
  },
  {
   "cell_type": "code",
   "execution_count": null,
   "id": "3cc2f536",
   "metadata": {},
   "outputs": [],
   "source": []
  },
  {
   "cell_type": "code",
   "execution_count": null,
   "id": "2b9cfb4e",
   "metadata": {},
   "outputs": [],
   "source": []
  },
  {
   "cell_type": "markdown",
   "id": "6da10ad0",
   "metadata": {},
   "source": [
    "### Extra -  Basic Statistical Properties when using baseline and zerosum method"
   ]
  },
  {
   "cell_type": "code",
   "execution_count": 12,
   "id": "4e9337ab",
   "metadata": {},
   "outputs": [],
   "source": [
    "baseline = raw_pred_score(model_baseline, test_data_without_neg)\n",
    "zerosum = raw_pred_score(model_zerosum, test_data_without_neg)"
   ]
  },
  {
   "cell_type": "markdown",
   "id": "4892413c",
   "metadata": {},
   "source": [
    "**Distribution of the mean and standard deviation of positive item scores for each user**"
   ]
  },
  {
   "cell_type": "markdown",
   "id": "b11c3ee2",
   "metadata": {},
   "source": [
    "**baseline**"
   ]
  },
  {
   "cell_type": "code",
   "execution_count": 13,
   "id": "314bbdea",
   "metadata": {},
   "outputs": [
    {
     "data": {
      "text/plain": [
       "<AxesSubplot:>"
      ]
     },
     "execution_count": 13,
     "metadata": {},
     "output_type": "execute_result"
    },
    {
     "data": {
      "image/png": "[encoded data removed]",
      "text/plain": [
       "<Figure size 432x288 with 1 Axes>"
      ]
     },
     "metadata": {
      "needs_background": "light"
     },
     "output_type": "display_data"
    }
   ],
   "source": [
    "baseline.groupby('uid')['pred'].mean().hist(bins = 100)"
   ]
  },
  {
   "cell_type": "code",
   "execution_count": 14,
   "id": "397b6774",
   "metadata": {},
   "outputs": [
    {
     "data": {
      "text/plain": [
       "<AxesSubplot:>"
      ]
     },
     "execution_count": 14,
     "metadata": {},
     "output_type": "execute_result"
    },
    {
     "data": {
      "image/png": "[encoded data removed]",
      "text/plain": [
       "<Figure size 432x288 with 1 Axes>"
      ]
     },
     "metadata": {
      "needs_background": "light"
     },
     "output_type": "display_data"
    }
   ],
   "source": [
    "baseline.groupby('uid')['pred'].std().hist(bins = 100)"
   ]
  },
  {
   "cell_type": "markdown",
   "id": "893b5513",
   "metadata": {},
   "source": [
    "**zerosum**"
   ]
  },
  {
   "cell_type": "code",
   "execution_count": 15,
   "id": "540d9ba7",
   "metadata": {},
   "outputs": [
    {
     "data": {
      "text/plain": [
       "<AxesSubplot:>"
      ]
     },
     "execution_count": 15,
     "metadata": {},
     "output_type": "execute_result"
    },
    {
     "data": {
      "image/png": "[encoded data removed]",
      "text/plain": [
       "<Figure size 432x288 with 1 Axes>"
      ]
     },
     "metadata": {
      "needs_background": "light"
     },
     "output_type": "display_data"
    }
   ],
   "source": [
    "zerosum.groupby('uid')['pred'].mean().hist(bins = 100)"
   ]
  },
  {
   "cell_type": "code",
   "execution_count": 16,
   "id": "f4c1b862",
   "metadata": {},
   "outputs": [
    {
     "data": {
      "text/plain": [
       "<AxesSubplot:>"
      ]
     },
     "execution_count": 16,
     "metadata": {},
     "output_type": "execute_result"
    },
    {
     "data": {
      "image/png": "[encoded data removed]",
      "text/plain": [
       "<Figure size 432x288 with 1 Axes>"
      ]
     },
     "metadata": {
      "needs_background": "light"
     },
     "output_type": "display_data"
    }
   ],
   "source": [
    "zerosum.groupby('uid')['pred'].std().hist(bins = 100)"
   ]
  },
  {
   "cell_type": "markdown",
   "id": "4d1c0ec9",
   "metadata": {},
   "source": [
    "**Result**\n",
    "\n",
    "The mean of the item scores of each user for the baseline method has greatly value and deviation compared to the zerosum method.\n",
    "\n",
    "This may indicate that the values of the positive item is more unified in the Zerosum method."
   ]
  },
  {
   "cell_type": "code",
   "execution_count": null,
   "id": "b2f50683",
   "metadata": {},
   "outputs": [],
   "source": []
  },
  {
   "cell_type": "code",
   "execution_count": null,
   "id": "a1a013c7",
   "metadata": {},
   "outputs": [],
   "source": []
  },
  {
   "cell_type": "markdown",
   "id": "68c0d7dc",
   "metadata": {},
   "source": [
    "**The item results when choosing the top scoring positive item for each user**"
   ]
  },
  {
   "cell_type": "markdown",
   "id": "436d7059",
   "metadata": {},
   "source": [
    "**random choice(ideal case)**"
   ]
  },
  {
   "cell_type": "code",
   "execution_count": 17,
   "id": "065b1345",
   "metadata": {},
   "outputs": [],
   "source": [
    "test_data_without_neg['random'] = np.random.permutation(199708)"
   ]
  },
  {
   "cell_type": "code",
   "execution_count": 18,
   "id": "713cd84c",
   "metadata": {},
   "outputs": [],
   "source": [
    "test_data_without_neg = test_data_without_neg.sort_values('random')\n",
    "one_item_per_user = test_data_without_neg.groupby('uid').head(1)['sid']"
   ]
  },
  {
   "cell_type": "code",
   "execution_count": 19,
   "id": "e1f1bda4",
   "metadata": {},
   "outputs": [
    {
     "data": {
      "text/plain": [
       "<AxesSubplot:>"
      ]
     },
     "execution_count": 19,
     "metadata": {},
     "output_type": "execute_result"
    },
    {
     "data": {
      "image/png": "[encoded data removed]",
      "text/plain": [
       "<Figure size 432x288 with 1 Axes>"
      ]
     },
     "metadata": {
      "needs_background": "light"
     },
     "output_type": "display_data"
    }
   ],
   "source": [
    "one_item_per_user.hist(bins = 100)"
   ]
  },
  {
   "cell_type": "markdown",
   "id": "d0393a3e",
   "metadata": {},
   "source": [
    "**baseline**"
   ]
  },
  {
   "cell_type": "code",
   "execution_count": 20,
   "id": "841297e1",
   "metadata": {},
   "outputs": [],
   "source": [
    "one_item_per_user = baseline.sort_values('pred', ascending = False).groupby('uid').head(1)['sid']"
   ]
  },
  {
   "cell_type": "code",
   "execution_count": 21,
   "id": "827499e1",
   "metadata": {},
   "outputs": [
    {
     "data": {
      "text/plain": [
       "<AxesSubplot:>"
      ]
     },
     "execution_count": 21,
     "metadata": {},
     "output_type": "execute_result"
    },
    {
     "data": {
      "image/png": "[encoded data removed]",
      "text/plain": [
       "<Figure size 432x288 with 1 Axes>"
      ]
     },
     "metadata": {
      "needs_background": "light"
     },
     "output_type": "display_data"
    }
   ],
   "source": [
    "one_item_per_user.hist(bins = 100)"
   ]
  },
  {
   "cell_type": "markdown",
   "id": "b65d489c",
   "metadata": {},
   "source": [
    "**zerosum**"
   ]
  },
  {
   "cell_type": "code",
   "execution_count": 22,
   "id": "ab8949e3",
   "metadata": {},
   "outputs": [],
   "source": [
    "one_item_per_user = zerosum.sort_values('pred', ascending = False).groupby('uid').head(1)['sid']"
   ]
  },
  {
   "cell_type": "code",
   "execution_count": 23,
   "id": "f73dfd17",
   "metadata": {},
   "outputs": [
    {
     "data": {
      "text/plain": [
       "<AxesSubplot:>"
      ]
     },
     "execution_count": 23,
     "metadata": {},
     "output_type": "execute_result"
    },
    {
     "data": {
      "image/png": "[encoded data removed]",
      "text/plain": [
       "<Figure size 432x288 with 1 Axes>"
      ]
     },
     "metadata": {
      "needs_background": "light"
     },
     "output_type": "display_data"
    }
   ],
   "source": [
    "one_item_per_user.hist(bins = 100)"
   ]
  },
  {
   "cell_type": "markdown",
   "id": "e27d49ca",
   "metadata": {},
   "source": [
    "**Results**\n",
    "\n",
    "The ideal case of choosing one random positive item for each user shows a fat tail.\n",
    "\n",
    "However, the baseline method shows a very thin tail, and the most popular item is recommended over 2000 times.\n",
    "\n",
    "In contrast, the zerosum method shows a fatter tail than the baselin emthod, resembling the ideal case of no model bias."
   ]
  },
  {
   "cell_type": "code",
   "execution_count": null,
   "id": "4c837ace",
   "metadata": {},
   "outputs": [],
   "source": []
  },
  {
   "cell_type": "code",
   "execution_count": null,
   "id": "acd5f9cb",
   "metadata": {},
   "outputs": [],
   "source": []
  }
 ],
 "metadata": {
  "kernelspec": {
   "display_name": "repeat",
   "language": "python",
   "name": "repeat"
  },
  "language_info": {
   "codemirror_mode": {
    "name": "ipython",
    "version": 3
   },
   "file_extension": ".py",
   "mimetype": "text/x-python",
   "name": "python",
   "nbconvert_exporter": "python",
   "pygments_lexer": "ipython3",
   "version": "3.8.2"
  }
 },
 "nbformat": 4,
 "nbformat_minor": 5
}
